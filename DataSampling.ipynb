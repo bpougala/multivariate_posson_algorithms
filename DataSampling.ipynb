{
 "cells": [
  {
   "cell_type": "markdown",
   "metadata": {},
   "source": [
    "Let's generate some data first sampled from the Clayton copula"
   ]
  },
  {
   "cell_type": "code",
   "execution_count": 1,
   "metadata": {},
   "outputs": [],
   "source": [
    "from scipy.stats import multivariate_normal, norm, poisson, gamma\n",
    "import numpy as np\n",
    "import matplotlib.pyplot as plt\n",
    "from mpl_toolkits.mplot3d import axes3d, Axes3D\n",
    "%load_ext autoreload\n",
    "%autoreload 2\n",
    "from CopulaGenerator import CopulaGenerator \n",
    "import itertools"
   ]
  },
  {
   "cell_type": "code",
   "execution_count": 2,
   "metadata": {},
   "outputs": [],
   "source": [
    "cop = CopulaGenerator()"
   ]
  },
  {
   "cell_type": "code",
   "execution_count": 3,
   "metadata": {},
   "outputs": [
    {
     "data": {
      "image/png": "[encoded data removed]",
      "text/plain": [
       "<Figure size 432x288 with 1 Axes>"
      ]
     },
     "metadata": {
      "needs_background": "light"
     },
     "output_type": "display_data"
    }
   ],
   "source": [
    "cp = cop.MultiDimensionalClayton(1.5, d=(2,1000))\n",
    "lambdas = np.random.uniform(0.5, 6, size=2)\n",
    "data_clayton = cop.generate_data(cp, lambdas)\n",
    "fig, ax = plt.subplots(1, 1)\n",
    "ax.hist2d(data_clayton[0], data_clayton[1], bins=10, density=True, cmin=0, cmax=10)\n",
    "plt.show()\n",
    "#ax.hist(data_clayton, density=True, histtype='stepfilled', alpha=0.2)\n"
   ]
  },
  {
   "cell_type": "markdown",
   "metadata": {},
   "source": [
    "Now we compute the CDF of the multidimensional data."
   ]
  },
  {
   "cell_type": "code",
   "execution_count": 8,
   "metadata": {},
   "outputs": [
    {
     "data": {
      "text/plain": [
       "[<matplotlib.lines.Line2D at 0x1a1d6d7a90>]"
      ]
     },
     "execution_count": 8,
     "metadata": {},
     "output_type": "execute_result"
    },
    {
     "data": {
      "image/png": "[encoded data removed]",
      "text/plain": [
       "<Figure size 432x288 with 1 Axes>"
      ]
     },
     "metadata": {
      "needs_background": "light"
     },
     "output_type": "display_data"
    }
   ],
   "source": [
    "num_bins = 50\n",
    "counts, bin_edges = np.histogram(data_clayton, bins=num_bins)\n",
    "cdf = np.cumsum(counts) # formula\n",
    "plt.plot(bin_edges[1:], cdf/cdf[-1])"
   ]
  },
  {
   "cell_type": "code",
   "execution_count": 9,
   "metadata": {},
   "outputs": [
    {
     "data": {
      "text/plain": [
       "array([0.22381398, 0.76931223, 0.76931223, 0.41418154, 0.60930829,\n",
       "       0.08452064, 0.60930829, 0.01657268, 0.76931223, 0.08452064,\n",
       "       0.08452064, 0.41418154, 0.76931223, 0.87864825, 0.22381398,\n",
       "       0.22381398, 0.08452064, 0.41418154, 0.41418154, 0.41418154,\n",
       "       0.41418154, 0.41418154, 0.60930829, 0.22381398, 0.60930829,\n",
       "       0.08452064, 0.08452064, 0.60930829, 0.41418154, 0.76931223,\n",
       "       0.08452064, 0.22381398, 0.08452064, 0.08452064, 0.08452064,\n",
       "       0.08452064, 0.41418154, 0.41418154, 0.08452064, 0.08452064])"
      ]
     },
     "execution_count": 9,
     "metadata": {},
     "output_type": "execute_result"
    }
   ],
   "source": [
    "poisson_cdf = poisson.cdf(data_clayton[0], 4.1)\n",
    "poisson_cdf[:40]"
   ]
  },
  {
   "cell_type": "code",
   "execution_count": 10,
   "metadata": {},
   "outputs": [
    {
     "data": {
      "text/plain": [
       "array([0.8432442 , 0.98055376, 0.94027554, 0.38594895, 0.12549038,\n",
       "       0.38594895, 0.38594895, 0.8432442 , 0.65624324, 0.65624324,\n",
       "       0.8432442 , 0.8432442 , 0.12549038, 0.65624324, 0.65624324,\n",
       "       0.8432442 , 0.8432442 , 0.8432442 , 0.94027554, 0.65624324])"
      ]
     },
     "execution_count": 10,
     "metadata": {},
     "output_type": "execute_result"
    }
   ],
   "source": [
    "x = poisson.rvs(lambdas[0], size=1000)\n",
    "poisson_cdf = poisson.cdf(x, lambdas[0])\n",
    "poisson_cdf[:20]"
   ]
  },
  {
   "cell_type": "code",
   "execution_count": 94,
   "metadata": {},
   "outputs": [],
   "source": [
    "def pmf(x, mu):\n",
    "    dim = len(x)\n",
    "    m = list(itertools.combinations_with_replacement([0,1], dim))\n",
    "    sum_m = np.array([sum(i) for i in m])\n",
    "    sum_k = np.zeros(dim)\n",
    "    #print(\"heyhey\")\n",
    "    for k in range(dim):\n",
    "       # print(\"hey\")\n",
    "        indices = np.array(np.where(sum_m == k))\n",
    "        print(\"indices: \" + str(indices))\n",
    "        #print(\"sum_m: \" + str(sum_m))\n",
    "        correct_ms = np.take(m, indices.flatten(), axis=0)\n",
    "        print(\"correct_ms: \" + str(correct_ms))\n",
    "        sum_fx = np.zeros(dim)\n",
    "        for correct_m in correct_ms:\n",
    "            sum_fx = np.add(sum_fx, poisson.cdf(np.subtract(x, correct_m), 2.2)) # sum elements from the element-wise\n",
    "        # substraction between the original x input array and the values mi such that m sums up to k \n",
    "            #print(\"sum_fx: \" + str(sum_fx))\n",
    "        print(\"sum_k: \" + str(sum_k))\n",
    "        sum_k = np.add(sum_k, ((-1)**k * sum_fx))\n",
    "    return sum_k\n",
    "    "
   ]
  },
  {
   "cell_type": "code",
   "execution_count": 85,
   "metadata": {},
   "outputs": [
    {
     "name": "stdout",
     "output_type": "stream",
     "text": [
      "[(0, 0, 0, 0), (0, 0, 0, 1), (0, 0, 1, 1), (0, 1, 1, 1), (1, 1, 1, 1)]\n",
      "[0 1 2 3 4]\n",
      "[2]\n",
      "[[0 0 1 1]]\n",
      "Correct_m: [0 0 1 1]\n",
      "[0.35457011 0.62271375 0.62271375 0.81935242]\n"
     ]
    }
   ],
   "source": [
    "dim = 4\n",
    "k = 2\n",
    "m = list(itertools.combinations_with_replacement([0,1], dim))\n",
    "print(m)\n",
    "sum_m = np.array([sum(i) for i in m])\n",
    "print(sum_m)\n",
    "indices = np.array(np.where(sum_m == k))\n",
    "print(indices.flatten())\n",
    "correct_ms = np.take(m, indices.flatten(), axis=0)\n",
    "print(correct_ms)\n",
    "x = np.array([1, 2, 3, 4])\n",
    "for correct_m in correct_ms:\n",
    "    print(\"Correct_m: \" + str(correct_m.flatten()))\n",
    "    m_ = correct_m.flatten()\n",
    "    print(poisson.cdf(np.subtract(x, m_), 2.2))\n",
    "\n"
   ]
  },
  {
   "cell_type": "code",
   "execution_count": 93,
   "metadata": {},
   "outputs": [
    {
     "data": {
      "text/plain": [
       "1"
      ]
     },
     "execution_count": 93,
     "metadata": {},
     "output_type": "execute_result"
    }
   ],
   "source": [
    "(-1)**0"
   ]
  },
  {
   "cell_type": "code",
   "execution_count": 86,
   "metadata": {},
   "outputs": [
    {
     "data": {
      "text/plain": [
       "array([0.70914022, 1.2454275 , 1.2454275 , 1.63870484])"
      ]
     },
     "execution_count": 86,
     "metadata": {},
     "output_type": "execute_result"
    }
   ],
   "source": [
    "a = np.array([0.35457011, 0.62271375, 0.62271375, 0.81935242])\n",
    "b = np.array([0.35457011, 0.62271375, 0.62271375, 0.81935242])\n",
    "np.add(a, b)"
   ]
  },
  {
   "cell_type": "code",
   "execution_count": 11,
   "metadata": {},
   "outputs": [],
   "source": [
    "multipoiss = MultivariatePoisson()\n",
    "x, mu = multipoiss.rvs(\"clayton\", size=1)"
   ]
  },
  {
   "cell_type": "code",
   "execution_count": 95,
   "metadata": {},
   "outputs": [
    {
     "name": "stdout",
     "output_type": "stream",
     "text": [
      "indices: [[0]]\n",
      "correct_ms: [[0 0 0 0]]\n",
      "sum_k: [0. 0. 0. 0.]\n",
      "indices: [[1]]\n",
      "correct_ms: [[0 0 0 1]]\n",
      "sum_k: [0.35457011 0.62271375 0.81935242 0.92750369]\n",
      "indices: [[2]]\n",
      "correct_ms: [[0 0 1 1]]\n",
      "sum_k: [0.         0.         0.         0.10815127]\n",
      "indices: [[3]]\n",
      "correct_ms: [[0 1 1 1]]\n",
      "sum_k: [0.35457011 0.62271375 0.62271375 0.92750369]\n"
     ]
    },
    {
     "data": {
      "text/plain": [
       "array([0.        , 0.26814364, 0.        , 0.10815127])"
      ]
     },
     "execution_count": 95,
     "metadata": {},
     "output_type": "execute_result"
    }
   ],
   "source": [
    "x = np.array([1, 2, 3, 4])\n",
    "mu = np.array([[2.2]])\n",
    "pmf(x, mu)"
   ]
  },
  {
   "cell_type": "code",
   "execution_count": 51,
   "metadata": {},
   "outputs": [
    {
     "data": {
      "text/plain": [
       "(array([2]),)"
      ]
     },
     "execution_count": 51,
     "metadata": {},
     "output_type": "execute_result"
    }
   ],
   "source": [
    "b = np.array([sum(i) for i in a])\n",
    "np.where(b == 2)"
   ]
  },
  {
   "cell_type": "code",
   "execution_count": 54,
   "metadata": {},
   "outputs": [],
   "source": [
    "c = np.random.randint(0,10, size=10)"
   ]
  },
  {
   "cell_type": "code",
   "execution_count": 55,
   "metadata": {},
   "outputs": [
    {
     "data": {
      "text/plain": [
       "array([6, 4, 6, 6, 5, 3, 6, 0, 9, 9])"
      ]
     },
     "execution_count": 55,
     "metadata": {},
     "output_type": "execute_result"
    }
   ],
   "source": [
    "c"
   ]
  },
  {
   "cell_type": "code",
   "execution_count": 59,
   "metadata": {},
   "outputs": [],
   "source": [
    "d = np.random.randint(0, 5, size=10)"
   ]
  },
  {
   "cell_type": "code",
   "execution_count": 73,
   "metadata": {},
   "outputs": [
    {
     "name": "stdout",
     "output_type": "stream",
     "text": [
      "[ 0  1  2  3  4  5  6  7  8  9 10]\n",
      "[[5]]\n"
     ]
    },
    {
     "ename": "ValueError",
     "evalue": "invalid number of arguments",
     "output_type": "error",
     "traceback": [
      "\u001b[0;31m---------------------------------------------------------------------------\u001b[0m",
      "\u001b[0;31mValueError\u001b[0m                                Traceback (most recent call last)",
      "\u001b[0;32m<ipython-input-73-6b5221ccdb2d>\u001b[0m in \u001b[0;36m<module>\u001b[0;34m\u001b[0m\n\u001b[0;32m----> 1\u001b[0;31m \u001b[0mpmf\u001b[0m\u001b[0;34m(\u001b[0m\u001b[0mc\u001b[0m\u001b[0;34m)\u001b[0m\u001b[0;34m\u001b[0m\u001b[0m\n\u001b[0m",
      "\u001b[0;32m<ipython-input-72-9914ec4f3126>\u001b[0m in \u001b[0;36mpmf\u001b[0;34m(x)\u001b[0m\n\u001b[1;32m      9\u001b[0m         \u001b[0mcorrect_ms\u001b[0m \u001b[0;34m=\u001b[0m \u001b[0mnp\u001b[0m\u001b[0;34m.\u001b[0m\u001b[0mtake\u001b[0m\u001b[0;34m(\u001b[0m\u001b[0msum_m\u001b[0m\u001b[0;34m,\u001b[0m \u001b[0mindices\u001b[0m\u001b[0;34m)\u001b[0m\u001b[0;34m\u001b[0m\u001b[0m\n\u001b[1;32m     10\u001b[0m         \u001b[0mprint\u001b[0m\u001b[0;34m(\u001b[0m\u001b[0mcorrect_ms\u001b[0m\u001b[0;34m)\u001b[0m\u001b[0;34m\u001b[0m\u001b[0m\n\u001b[0;32m---> 11\u001b[0;31m         \u001b[0msum_fx\u001b[0m \u001b[0;34m=\u001b[0m \u001b[0mnp\u001b[0m\u001b[0;34m.\u001b[0m\u001b[0madd\u001b[0m\u001b[0;34m(\u001b[0m\u001b[0mnp\u001b[0m\u001b[0;34m.\u001b[0m\u001b[0msubtract\u001b[0m\u001b[0;34m(\u001b[0m\u001b[0mx\u001b[0m\u001b[0;34m,\u001b[0m \u001b[0;34m)\u001b[0m\u001b[0;34m)\u001b[0m \u001b[0;31m# sum elements from the element-wise\u001b[0m\u001b[0;34m\u001b[0m\u001b[0m\n\u001b[0m\u001b[1;32m     12\u001b[0m         \u001b[0;31m# substraction between the original x input array and the values mi such that m sums up to k\u001b[0m\u001b[0;34m\u001b[0m\u001b[0;34m\u001b[0m\u001b[0m\n\u001b[1;32m     13\u001b[0m         \u001b[0msum_k\u001b[0m \u001b[0;34m=\u001b[0m \u001b[0mnp\u001b[0m\u001b[0;34m.\u001b[0m\u001b[0madd\u001b[0m\u001b[0;34m(\u001b[0m\u001b[0msum_k\u001b[0m\u001b[0;34m,\u001b[0m \u001b[0;34m-\u001b[0m\u001b[0;36m1\u001b[0m\u001b[0;34m**\u001b[0m\u001b[0mk\u001b[0m \u001b[0;34m*\u001b[0m \u001b[0msum_fx\u001b[0m\u001b[0;34m)\u001b[0m\u001b[0;34m\u001b[0m\u001b[0m\n",
      "\u001b[0;31mValueError\u001b[0m: invalid number of arguments"
     ]
    }
   ],
   "source": [
    "pmf(c)"
   ]
  },
  {
   "cell_type": "code",
   "execution_count": 5,
   "metadata": {},
   "outputs": [],
   "source": [
    "from MultivariatePoisson import MultivariatePoisson "
   ]
  },
  {
   "cell_type": "code",
   "execution_count": 2,
   "metadata": {},
   "outputs": [],
   "source": [
    "mv = MultivariatePoisson()"
   ]
  },
  {
   "cell_type": "code",
   "execution_count": 3,
   "metadata": {},
   "outputs": [
    {
     "name": "stdout",
     "output_type": "stream",
     "text": [
      "number 0\n"
     ]
    },
    {
     "data": {
      "text/plain": [
       "(1, 2000)"
      ]
     },
     "execution_count": 3,
     "metadata": {},
     "output_type": "execute_result"
    }
   ],
   "source": [
    "data = mv.rvs(\"gaussian\")\n",
    "data.shape"
   ]
  },
  {
   "cell_type": "code",
   "execution_count": null,
   "metadata": {},
   "outputs": [],
   "source": []
  }
 ],
 "metadata": {
  "kernelspec": {
   "display_name": "Honours Project",
   "language": "python",
   "name": "honoursproject"
  },
  "language_info": {
   "codemirror_mode": {
    "name": "ipython",
    "version": 3
   },
   "file_extension": ".py",
   "mimetype": "text/x-python",
   "name": "python",
   "nbconvert_exporter": "python",
   "pygments_lexer": "ipython3",
   "version": "3.7.5"
  }
 },
 "nbformat": 4,
 "nbformat_minor": 2
}
