{
 "cells": [
  {
   "cell_type": "code",
   "execution_count": 1,
   "metadata": {},
   "outputs": [],
   "source": [
    "import numpy as np\n",
    "from scipy.stats import poisson\n",
    "import matplotlib.pyplot as plt\n",
    "from mpl_toolkits.mplot3d import Axes3D\n",
    "from MultivariatePoisson import MultivariatePoisson as mvp\n",
    "from scipy.stats import norm, multivariate_normal\n",
    "from CopulaGenerator import CopulaGenerator\n",
    "%load_ext autoreload\n",
    "%autoreload 2"
   ]
  },
  {
   "cell_type": "code",
   "execution_count": 4,
   "metadata": {},
   "outputs": [],
   "source": [
    "multi_poisson = mvp(family=\"clayton\", alpha=4.78)"
   ]
  },
  {
   "cell_type": "code",
   "execution_count": 16,
   "metadata": {},
   "outputs": [],
   "source": [
    "data, mean = multi_poisson.rvs(size=(2,20))"
   ]
  },
  {
   "cell_type": "code",
   "execution_count": 18,
   "metadata": {},
   "outputs": [],
   "source": [
    "pmf = multi_poisson.pmf(data, mean)"
   ]
  },
  {
   "cell_type": "code",
   "execution_count": 50,
   "metadata": {},
   "outputs": [],
   "source": [
    "def draw_board(x, pmf):\n",
    "    dim = x.shape[1]\n",
    "    min_v = int(np.min(x))\n",
    "    max_v = int(np.max(x))\n",
    "    fresh_board = np.zeros((dim, dim))\n",
    "    \n",
    "    \n",
    "    for i in range(min_v, max_v+1):\n",
    "        for j in range(min_v, max_v+1):\n",
    "            a = np.argwhere(x[0]==i)\n",
    "            b = np.argwhere(x[1]==j)\n",
    "            if np.in1d(a, b).any():\n",
    "                index_pmf = [i for i in a if i in b][0]\n",
    "                value_in_pmf = pmf[index_pmf]\n",
    "                fresh_board[i][j] = value_in_pmf\n",
    "                \n",
    "    return fresh_board\n",
    "                "
   ]
  },
  {
   "cell_type": "code",
   "execution_count": 52,
   "metadata": {},
   "outputs": [],
   "source": [
    "c = draw_board(data, pmf)"
   ]
  },
  {
   "cell_type": "code",
   "execution_count": 53,
   "metadata": {},
   "outputs": [
    {
     "data": {
      "text/plain": [
       "<matplotlib.image.AxesImage at 0x11abbfc18>"
      ]
     },
     "execution_count": 53,
     "metadata": {},
     "output_type": "execute_result"
    },
    {
     "data": {
      "image/png": "[encoded data removed]",
      "text/plain": [
       "<Figure size 288x288 with 1 Axes>"
      ]
     },
     "metadata": {
      "needs_background": "light"
     },
     "output_type": "display_data"
    }
   ],
   "source": [
    "plt.matshow(c)"
   ]
  },
  {
   "cell_type": "code",
   "execution_count": null,
   "metadata": {},
   "outputs": [],
   "source": []
  }
 ],
 "metadata": {
  "kernelspec": {
   "display_name": "MultiPoissonDistributions",
   "language": "python",
   "name": "multipoissondistributions"
  },
  "language_info": {
   "codemirror_mode": {
    "name": "ipython",
    "version": 3
   },
   "file_extension": ".py",
   "mimetype": "text/x-python",
   "name": "python",
   "nbconvert_exporter": "python",
   "pygments_lexer": "ipython3",
   "version": "3.6.0"
  }
 },
 "nbformat": 4,
 "nbformat_minor": 2
}
