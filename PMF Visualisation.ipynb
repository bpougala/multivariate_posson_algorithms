{
 "cells": [
  {
   "cell_type": "code",
   "execution_count": 2,
   "metadata": {},
   "outputs": [],
   "source": [
    "import numpy as np\n",
    "from scipy.stats import poisson\n",
    "import matplotlib.pyplot as plt\n",
    "from mpl_toolkits.mplot3d import Axes3D\n",
    "from MultivariatePoisson import MultivariatePoisson as mvp\n",
    "from scipy.stats import norm, multivariate_normal\n",
    "from CopulaGenerator import CopulaGenerator\n",
    "%load_ext autoreload\n",
    "%autoreload 2"
   ]
  },
  {
   "cell_type": "code",
   "execution_count": 6,
   "metadata": {},
   "outputs": [],
   "source": [
    "from scipy.optimize import minimize"
   ]
  },
  {
   "cell_type": "code",
   "execution_count": null,
   "metadata": {},
   "outputs": [],
   "source": [
    "val = np.array([10, 50, 100, 500, 1000])\n",
    "hats = np.zeros(5)\n",
    "for ind, i in enumerate(val):\n",
    "    mp = mvp(\"clayton\", 4.6)\n",
    "    data, mean = mp.rvs(size=(2, i))\n",
    "    alpha_hat, mean_hat = mp.optimise_params(data, mean, 11.0)\n",
    "    hats[ind] = abs(alpha_hat-4.6)\n",
    "    print(\"When i = \" + str(i) + \", diff is: \" + str(abs(alpha_hat-4.6)))"
   ]
  },
  {
   "cell_type": "code",
   "execution_count": 71,
   "metadata": {},
   "outputs": [],
   "source": [
    "mp = mvp(\"clayton\", 4.6)\n",
    "data, mean = mp.rvs(size=(2, 20))"
   ]
  },
  {
   "cell_type": "code",
   "execution_count": 75,
   "metadata": {},
   "outputs": [
    {
     "name": "stdout",
     "output_type": "stream",
     "text": [
      "Optimization terminated successfully.\n",
      "         Current function value: 498.916034\n",
      "         Iterations: 8\n",
      "         Function evaluations: 69\n",
      "         Gradient evaluations: 23\n",
      "      fun: 498.91603356146493\n",
      " hess_inv: array([[0.35506093]])\n",
      "      jac: array([0.])\n",
      "  message: 'Optimization terminated successfully.'\n",
      "     nfev: 69\n",
      "      nit: 8\n",
      "     njev: 23\n",
      "   status: 0\n",
      "  success: True\n",
      "        x: array([1.28734908])\n"
     ]
    },
    {
     "data": {
      "text/plain": [
       "(array([1.28734908]), array([9.75, 6.85]))"
      ]
     },
     "execution_count": 75,
     "metadata": {},
     "output_type": "execute_result"
    }
   ],
   "source": [
    "mp.optimise_params(data, mean, 9.0)"
   ]
  },
  {
   "cell_type": "code",
   "execution_count": 76,
   "metadata": {},
   "outputs": [
    {
     "data": {
      "text/plain": [
       "26.250121827268515"
      ]
     },
     "execution_count": 76,
     "metadata": {},
     "output_type": "execute_result"
    }
   ],
   "source": [
    "log_likelihood_archimedean(9.0, data, mean)"
   ]
  },
  {
   "cell_type": "code",
   "execution_count": 77,
   "metadata": {},
   "outputs": [
    {
     "data": {
      "text/plain": [
       "26.02181583322249"
      ]
     },
     "execution_count": 77,
     "metadata": {},
     "output_type": "execute_result"
    }
   ],
   "source": [
    "log_likelihood_archimedean(8.0, data, mean)"
   ]
  },
  {
   "cell_type": "code",
   "execution_count": 78,
   "metadata": {},
   "outputs": [
    {
     "data": {
      "text/plain": [
       "25.801874534222122"
      ]
     },
     "execution_count": 78,
     "metadata": {},
     "output_type": "execute_result"
    }
   ],
   "source": [
    "log_likelihood_archimedean(7.0, data, mean)"
   ]
  },
  {
   "cell_type": "code",
   "execution_count": 79,
   "metadata": {},
   "outputs": [
    {
     "data": {
      "text/plain": [
       "25.592746516809694"
      ]
     },
     "execution_count": 79,
     "metadata": {},
     "output_type": "execute_result"
    }
   ],
   "source": [
    "log_likelihood_archimedean(6.0, data, mean)"
   ]
  },
  {
   "cell_type": "code",
   "execution_count": 80,
   "metadata": {},
   "outputs": [
    {
     "data": {
      "text/plain": [
       "25.39796472445207"
      ]
     },
     "execution_count": 80,
     "metadata": {},
     "output_type": "execute_result"
    }
   ],
   "source": [
    "log_likelihood_archimedean(5.0, data, mean)"
   ]
  },
  {
   "cell_type": "code",
   "execution_count": 81,
   "metadata": {},
   "outputs": [
    {
     "data": {
      "text/plain": [
       "25.222970831543062"
      ]
     },
     "execution_count": 81,
     "metadata": {},
     "output_type": "execute_result"
    }
   ],
   "source": [
    "log_likelihood_archimedean(4.0, data, mean)"
   ]
  },
  {
   "cell_type": "code",
   "execution_count": 86,
   "metadata": {},
   "outputs": [
    {
     "data": {
      "text/plain": [
       "25.076595501289734"
      ]
     },
     "execution_count": 86,
     "metadata": {},
     "output_type": "execute_result"
    }
   ],
   "source": [
    "log_likelihood_archimedean(3.0, data, mean)"
   ]
  },
  {
   "cell_type": "code",
   "execution_count": 87,
   "metadata": {},
   "outputs": [
    {
     "data": {
      "text/plain": [
       "24.974218726771994"
      ]
     },
     "execution_count": 87,
     "metadata": {},
     "output_type": "execute_result"
    }
   ],
   "source": [
    "log_likelihood_archimedean(2.0, data, mean)"
   ]
  },
  {
   "cell_type": "code",
   "execution_count": 88,
   "metadata": {},
   "outputs": [
    {
     "data": {
      "text/plain": [
       "24.952509505158833"
      ]
     },
     "execution_count": 88,
     "metadata": {},
     "output_type": "execute_result"
    }
   ],
   "source": [
    "log_likelihood_archimedean(1.0, data, mean)"
   ]
  },
  {
   "cell_type": "code",
   "execution_count": 89,
   "metadata": {},
   "outputs": [
    {
     "name": "stdout",
     "output_type": "stream",
     "text": [
      "Optimization terminated successfully.\n",
      "         Current function value: 432.952880\n",
      "         Iterations: 9\n",
      "         Function evaluations: 66\n",
      "         Gradient evaluations: 22\n",
      "      fun: 432.95288024701904\n",
      " hess_inv: array([[0.57062299]])\n",
      "      jac: array([7.62939453e-06])\n",
      "  message: 'Optimization terminated successfully.'\n",
      "     nfev: 66\n",
      "      nit: 9\n",
      "     njev: 22\n",
      "   status: 0\n",
      "  success: True\n",
      "        x: array([4.61650455])\n"
     ]
    },
    {
     "data": {
      "text/plain": [
       "(array([4.61650455]), array([9.7 , 3.25]))"
      ]
     },
     "execution_count": 89,
     "metadata": {},
     "output_type": "execute_result"
    }
   ],
   "source": [
    "mp = mvp(\"clayton\", 4.6)\n",
    "data, mean = mp.rvs(size=(2, 20))\n",
    "mp.optimise_params(data, mean, 11.0)"
   ]
  },
  {
   "cell_type": "code",
   "execution_count": 93,
   "metadata": {},
   "outputs": [
    {
     "name": "stdout",
     "output_type": "stream",
     "text": [
      "Optimization terminated successfully.\n",
      "         Current function value: 2125.976760\n",
      "         Iterations: 9\n",
      "         Function evaluations: 90\n",
      "         Gradient evaluations: 30\n",
      "      fun: 2125.9767597841646\n",
      " hess_inv: array([[0.02280707]])\n",
      "      jac: array([0.])\n",
      "  message: 'Optimization terminated successfully.'\n",
      "     nfev: 90\n",
      "      nit: 9\n",
      "     njev: 30\n",
      "   status: 0\n",
      "  success: True\n",
      "        x: array([0.78547233])\n"
     ]
    },
    {
     "data": {
      "text/plain": [
       "(array([0.78547233]), array([1.98, 1.6 ]))"
      ]
     },
     "execution_count": 93,
     "metadata": {},
     "output_type": "execute_result"
    }
   ],
   "source": [
    "mp = mvp(\"clayton\", 4.6)\n",
    "data, mean = mp.rvs(size=(2, 50))\n",
    "mp.optimise_params(data, mean, 11.0)"
   ]
  },
  {
   "cell_type": "code",
   "execution_count": 114,
   "metadata": {},
   "outputs": [
    {
     "data": {
      "text/plain": [
       "67.7040542790826"
      ]
     },
     "execution_count": 114,
     "metadata": {},
     "output_type": "execute_result"
    }
   ],
   "source": [
    "mp = mvp(\"clayton\", 4.6)\n",
    "data, mean = mp.rvs(size=(2, 70))\n",
    "log_likelihood_archimedean(11.0, data, mean)"
   ]
  },
  {
   "cell_type": "code",
   "execution_count": null,
   "metadata": {},
   "outputs": [],
   "source": [
    "data, m"
   ]
  },
  {
   "cell_type": "code",
   "execution_count": 115,
   "metadata": {},
   "outputs": [
    {
     "name": "stdout",
     "output_type": "stream",
     "text": [
      "Optimization terminated successfully.\n",
      "         Current function value: 4496.492145\n",
      "         Iterations: 20\n",
      "         Function evaluations: 40\n"
     ]
    },
    {
     "data": {
      "text/plain": [
       " final_simplex: (array([[2.75281982],\n",
       "       [2.75275269]]), array([4496.49214458, 4496.49214461]))\n",
       "           fun: 4496.492144582842\n",
       "       message: 'Optimization terminated successfully.'\n",
       "          nfev: 40\n",
       "           nit: 20\n",
       "        status: 0\n",
       "       success: True\n",
       "             x: array([2.75281982])"
      ]
     },
     "execution_count": 115,
     "metadata": {},
     "output_type": "execute_result"
    }
   ],
   "source": [
    "minimize(log_likelihood_archimedean, np.array([11.0]),\n",
    "                           (data, mean), method='Nelder-Mead', options={'disp': True})"
   ]
  },
  {
   "cell_type": "code",
   "execution_count": 108,
   "metadata": {},
   "outputs": [
    {
     "name": "stdout",
     "output_type": "stream",
     "text": [
      "Warning: Desired error not necessarily achieved due to precision loss.\n",
      "         Current function value: 6588.423541\n",
      "         Iterations: 9\n",
      "         Function evaluations: 285\n",
      "         Gradient evaluations: 91\n",
      "      fun: 6588.423540947069\n",
      " hess_inv: array([[3.11126807e-12]])\n",
      "      jac: array([0.00854492])\n",
      "  message: 'Desired error not necessarily achieved due to precision loss.'\n",
      "     nfev: 285\n",
      "      nit: 9\n",
      "     njev: 91\n",
      "   status: 2\n",
      "  success: False\n",
      "        x: array([1.59340634])\n"
     ]
    },
    {
     "data": {
      "text/plain": [
       "(array([1.59340634]), array([7.14285714, 5.98571429]))"
      ]
     },
     "execution_count": 108,
     "metadata": {},
     "output_type": "execute_result"
    }
   ],
   "source": [
    "mp = mvp(\"clayton\", 4.6)\n",
    "data, mean = mp.rvs(size=(2, 70))\n",
    "mp.optimise_params(data, mean, 11.0)"
   ]
  },
  {
   "cell_type": "code",
   "execution_count": null,
   "metadata": {},
   "outputs": [],
   "source": [
    "mp = mvp(\"clayton\", 4.6)\n",
    "data, mean = mp.rvs(size=(2, 0))\n",
    "mp.optimise_params(data, mean, 11.0)"
   ]
  },
  {
   "cell_type": "code",
   "execution_count": 53,
   "metadata": {},
   "outputs": [],
   "source": [
    "def log_likelihood_archimedean(alpha, data, mean):\n",
    "    copula = CopulaGenerator(family=\"clayton\", alpha=alpha)\n",
    "    poiss = mvp(\"clayton\", alpha)\n",
    "    pm = poiss.pmf(data, mean)\n",
    "    pm[pm == 0] = 1e-3\n",
    "    return -sum(np.log10(pm))"
   ]
  },
  {
   "cell_type": "code",
   "execution_count": 69,
   "metadata": {},
   "outputs": [
    {
     "name": "stderr",
     "output_type": "stream",
     "text": [
      "/Users/BikoP/Documents/HonoursProject/CopulaGenerator.py:143: RuntimeWarning: divide by zero encountered in double_scalars\n",
      "  raised_to_power = [x ** -self.alpha for x in cdf]  # TODO: fix the zero-raised-to-negative-power issue\n"
     ]
    },
    {
     "data": {
      "text/plain": [
       "21.7931916218863"
      ]
     },
     "execution_count": 69,
     "metadata": {},
     "output_type": "execute_result"
    }
   ],
   "source": [
    "mp.log_likelihood_archimedean(5.0, data, mean, \"clayton\")"
   ]
  },
  {
   "cell_type": "code",
   "execution_count": 18,
   "metadata": {},
   "outputs": [],
   "source": [
    "pmf = multi_poisson.pmf(data, mean)"
   ]
  },
  {
   "cell_type": "code",
   "execution_count": 50,
   "metadata": {},
   "outputs": [],
   "source": [
    "def draw_board(x, pmf):\n",
    "    dim = x.shape[1]\n",
    "    min_v = int(np.min(x))\n",
    "    max_v = int(np.max(x))\n",
    "    fresh_board = np.zeros((dim, dim))\n",
    "    \n",
    "    \n",
    "    for i in range(min_v, max_v+1):\n",
    "        for j in range(min_v, max_v+1):\n",
    "            a = np.argwhere(x[0]==i)\n",
    "            b = np.argwhere(x[1]==j)\n",
    "            if np.in1d(a, b).any():\n",
    "                index_pmf = [i for i in a if i in b][0]\n",
    "                value_in_pmf = pmf[index_pmf]\n",
    "                fresh_board[i][j] = value_in_pmf\n",
    "                \n",
    "    return fresh_board\n",
    "                "
   ]
  },
  {
   "cell_type": "code",
   "execution_count": 52,
   "metadata": {},
   "outputs": [],
   "source": [
    "c = draw_board(data, pmf)"
   ]
  },
  {
   "cell_type": "code",
   "execution_count": 53,
   "metadata": {},
   "outputs": [
    {
     "data": {
      "text/plain": [
       "<matplotlib.image.AxesImage at 0x11abbfc18>"
      ]
     },
     "execution_count": 53,
     "metadata": {},
     "output_type": "execute_result"
    },
    {
     "data": {
      "image/png": "[encoded data removed]",
      "text/plain": [
       "<Figure size 288x288 with 1 Axes>"
      ]
     },
     "metadata": {
      "needs_background": "light"
     },
     "output_type": "display_data"
    }
   ],
   "source": [
    "plt.matshow(c)"
   ]
  },
  {
   "cell_type": "code",
   "execution_count": null,
   "metadata": {},
   "outputs": [],
   "source": []
  }
 ],
 "metadata": {
  "kernelspec": {
   "display_name": "MultiPoissonDistributions",
   "language": "python",
   "name": "multipoissondistributions"
  },
  "language_info": {
   "codemirror_mode": {
    "name": "ipython",
    "version": 3
   },
   "file_extension": ".py",
   "mimetype": "text/x-python",
   "name": "python",
   "nbconvert_exporter": "python",
   "pygments_lexer": "ipython3",
   "version": "3.6.0"
  }
 },
 "nbformat": 4,
 "nbformat_minor": 2
}
