{
 "cells": [
  {
   "cell_type": "code",
   "execution_count": 7,
   "metadata": {
    "colab": {
     "base_uri": "https://localhost:8080/",
     "height": 51
    },
    "colab_type": "code",
    "id": "Tty-V3hv6k-N",
    "outputId": "5f813ef3-6aa4-4d7b-d79c-52676ebae714"
   },
   "outputs": [
    {
     "name": "stdout",
     "output_type": "stream",
     "text": [
      "The autoreload extension is already loaded. To reload it, use:\n",
      "  %reload_ext autoreload\n"
     ]
    }
   ],
   "source": [
    "import numpy as np\n",
    "from scipy.stats import poisson\n",
    "import matplotlib.pyplot as plt\n",
    "from mpl_toolkits.mplot3d import Axes3D\n",
    "%load_ext autoreload\n",
    "%autoreload 2"
   ]
  },
  {
   "cell_type": "code",
   "execution_count": 8,
   "metadata": {
    "colab": {},
    "colab_type": "code",
    "id": "QHrDwh_B6pig"
   },
   "outputs": [],
   "source": [
    "from MultivariatePoisson import MultivariatePoisson as mvp\n",
    "from scipy.stats import norm, multivariate_normal"
   ]
  },
  {
   "cell_type": "code",
   "execution_count": 9,
   "metadata": {
    "colab": {
     "base_uri": "https://localhost:8080/",
     "height": 85
    },
    "colab_type": "code",
    "id": "N0eHJcSW83tu",
    "outputId": "0adcff27-6911-4bf8-fa14-c6da95e7af2f"
   },
   "outputs": [
    {
     "data": {
      "text/plain": [
       "(array([[4., 4., 7., 6., 5., 8., 4., 6., 8., 9.],\n",
       "        [0., 0., 1., 1., 2., 2., 0., 1., 1., 1.],\n",
       "        [4., 6., 6., 4., 5., 7., 5., 6., 7., 3.]]),\n",
       " array([5.41237437, 0.48339795, 4.79684015]))"
      ]
     },
     "execution_count": 9,
     "metadata": {},
     "output_type": "execute_result"
    }
   ],
   "source": [
    "multi_poisson = mvp()\n",
    "multi_poisson.rvs(family=\"clayton\",size=(3,10))"
   ]
  },
  {
   "cell_type": "code",
   "execution_count": 20,
   "metadata": {
    "colab": {
     "base_uri": "https://localhost:8080/",
     "height": 85
    },
    "colab_type": "code",
    "id": "KwxHtWa_9MdE",
    "outputId": "6359fdf3-b2ea-4c37-b48c-c2db523acad7"
   },
   "outputs": [
    {
     "data": {
      "text/plain": [
       "(array([[ 0.,  0.,  0., ...,  0.,  0.,  0.],\n",
       "        [ 7.,  8.,  9., ...,  3.,  7.,  5.],\n",
       "        [ 7.,  7., 10., ...,  2.,  6.,  4.]]),\n",
       " array([0.39809023, 6.98402317, 5.98228552]))"
      ]
     },
     "execution_count": 20,
     "metadata": {},
     "output_type": "execute_result"
    }
   ],
   "source": [
    "multi_poisson.rvs(family=\"gaussian\", size=3)"
   ]
  },
  {
   "cell_type": "code",
   "execution_count": 10,
   "metadata": {
    "colab": {},
    "colab_type": "code",
    "id": "HdUyj9f8-IsQ"
   },
   "outputs": [],
   "source": [
    "from CopulaGenerator import CopulaGenerator\n",
    "cop = CopulaGenerator(2.5, \"clayton\")"
   ]
  },
  {
   "cell_type": "code",
   "execution_count": 41,
   "metadata": {
    "colab": {
     "base_uri": "https://localhost:8080/",
     "height": 51
    },
    "colab_type": "code",
    "id": "1vv-hc6mBjRI",
    "outputId": "a1affca7-4d7d-4c34-b8d4-115b65be32e1"
   },
   "outputs": [
    {
     "name": "stdout",
     "output_type": "stream",
     "text": [
      "Optimization terminated successfully.\n",
      "         Current function value: 121.528323\n",
      "         Iterations: 69\n",
      "         Function evaluations: 900\n"
     ]
    }
   ],
   "source": [
    "data, mu = multi_poisson.rvs(\"clayton\", size=(2,10))\n",
    "cop = CopulaGenerator(8.0, \"clayton\")\n",
    "alpha, mean = multi_poisson.optimise_params(data, cop)"
   ]
  },
  {
   "cell_type": "code",
   "execution_count": 42,
   "metadata": {},
   "outputs": [
    {
     "data": {
      "text/plain": [
       "array([0.11610573, 0.08719324, 0.02382379, 0.13802584, 0.03318145,\n",
       "       0.09808272, 0.11610573, 0.0154365 , 0.07615098, 0.04756572])"
      ]
     },
     "execution_count": 42,
     "metadata": {},
     "output_type": "execute_result"
    }
   ],
   "source": [
    "cop = CopulaGenerator(alpha, \"clayton\")\n",
    "pmf = multi_poisson.pmf(data, mean, cop)\n",
    "pmf"
   ]
  },
  {
   "cell_type": "code",
   "execution_count": 43,
   "metadata": {},
   "outputs": [
    {
     "data": {
      "text/plain": [
       "0.7516717004920276"
      ]
     },
     "execution_count": 43,
     "metadata": {},
     "output_type": "execute_result"
    }
   ],
   "source": [
    "sum(pmf)"
   ]
  },
  {
   "cell_type": "code",
   "execution_count": 54,
   "metadata": {},
   "outputs": [
    {
     "name": "stdout",
     "output_type": "stream",
     "text": [
      "Warning: Maximum number of function evaluations has been exceeded.\n",
      "nan\n",
      "Warning: Maximum number of function evaluations has been exceeded.\n",
      "nan\n",
      "Optimization terminated successfully.\n",
      "         Current function value: 649.640891\n",
      "         Iterations: 62\n",
      "         Function evaluations: 807\n",
      "0.7332806060844257\n",
      "Warning: Maximum number of function evaluations has been exceeded.\n",
      "nan\n",
      "Optimization terminated successfully.\n",
      "         Current function value: 696.810013\n",
      "         Iterations: 69\n",
      "         Function evaluations: 899\n",
      "0.6688209356129797\n",
      "Optimization terminated successfully.\n",
      "         Current function value: 623.704218\n",
      "         Iterations: 60\n",
      "         Function evaluations: 784\n",
      "0.7703287197745007\n",
      "Optimization terminated successfully.\n",
      "         Current function value: 729.123390\n",
      "         Iterations: 38\n",
      "         Function evaluations: 497\n",
      "0.4521253248143074\n",
      "Optimization terminated successfully.\n",
      "         Current function value: 716.695990\n",
      "         Iterations: 69\n",
      "         Function evaluations: 902\n",
      "0.5393638084783952\n",
      "Optimization terminated successfully.\n",
      "         Current function value: 678.844467\n",
      "         Iterations: 67\n",
      "         Function evaluations: 884\n",
      "0.5825182292077151\n",
      "Optimization terminated successfully.\n",
      "         Current function value: 728.672661\n",
      "         Iterations: 68\n",
      "         Function evaluations: 927\n",
      "0.5155800237596349\n",
      "Warning: Maximum number of function evaluations has been exceeded.\n",
      "nan\n",
      "Warning: Maximum number of function evaluations has been exceeded.\n",
      "0.8122156160197733\n",
      "Warning: Maximum number of function evaluations has been exceeded.\n",
      "nan\n",
      "Warning: Maximum number of function evaluations has been exceeded.\n",
      "0.40217274015192084\n",
      "Optimization terminated successfully.\n",
      "         Current function value: 592.823814\n",
      "         Iterations: 26\n",
      "         Function evaluations: 361\n",
      "1.2051993108576993\n",
      "Warning: Maximum number of function evaluations has been exceeded.\n",
      "1.0429933141418215\n",
      "Warning: Maximum number of function evaluations has been exceeded.\n",
      "1.116074563096693\n",
      "Optimization terminated successfully.\n",
      "         Current function value: 674.523021\n",
      "         Iterations: 68\n",
      "         Function evaluations: 900\n",
      "0.5939435650305116\n",
      "Warning: Maximum number of function evaluations has been exceeded.\n",
      "nan\n",
      "Optimization terminated successfully.\n",
      "         Current function value: 561.447534\n",
      "         Iterations: 68\n",
      "         Function evaluations: 907\n",
      "1.1309361514772962\n"
     ]
    }
   ],
   "source": [
    "for i in range(20):\n",
    "    data, mu = multi_poisson.rvs(\"clayton\", size=(3,20))\n",
    "    cop = CopulaGenerator(8.0, \"clayton\")\n",
    "    alpha, mean = multi_poisson.optimise_params(data, cop)\n",
    "    cop = CopulaGenerator(alpha, \"clayton\")\n",
    "    pmf = multi_poisson.pmf(data, mean, cop)\n",
    "    print(sum(pmf))"
   ]
  },
  {
   "cell_type": "code",
   "execution_count": 23,
   "metadata": {
    "colab": {
     "base_uri": "https://localhost:8080/",
     "height": 34
    },
    "colab_type": "code",
    "id": "se6CO8s6b1Ur",
    "outputId": "93d6b746-6d6f-4b73-c33b-1d277ce03afd"
   },
   "outputs": [],
   "source": [
    "from scipy.optimize import minimize"
   ]
  },
  {
   "cell_type": "code",
   "execution_count": 32,
   "metadata": {
    "colab": {
     "base_uri": "https://localhost:8080/",
     "height": 34
    },
    "colab_type": "code",
    "id": "M0QWDa-Agnl1",
    "outputId": "9adbf275-a380-43d2-e5c8-777bea244067"
   },
   "outputs": [
    {
     "name": "stdout",
     "output_type": "stream",
     "text": [
      "Optimization terminated successfully.\n",
      "         Current function value: 12.813814\n",
      "         Iterations: 64\n",
      "         Function evaluations: 835\n"
     ]
    },
    {
     "data": {
      "text/plain": [
       "   direc: array([[1.]])\n",
       "     fun: 12.813814224475438\n",
       " message: 'Optimization terminated successfully.'\n",
       "    nfev: 835\n",
       "     nit: 64\n",
       "  status: 0\n",
       " success: True\n",
       "       x: array(0.69269242)"
      ]
     },
     "execution_count": 32,
     "metadata": {},
     "output_type": "execute_result"
    }
   ],
   "source": [
    "a = poisson.pmf(data, np.mean(mu[0]))\n",
    "np.log10(sum(a[0])) + np.log10(sum(a[1]))\n",
    "def log_likelihood(cop_param, data):\n",
    "    cop = CopulaGenerator(cop_param[0], \"clayton\")\n",
    "    mean = np.array([np.mean(x) for x in data])\n",
    "    pm = multi_poisson.pmf(data, mean, cop)\n",
    "    return -sum(np.log10(pm))\n",
    "\n",
    "minimize(log_likelihood, np.array([18.0]), data, method='powell', options={'disp': True})"
   ]
  },
  {
   "cell_type": "code",
   "execution_count": 31,
   "metadata": {
    "colab": {
     "base_uri": "https://localhost:8080/",
     "height": 68
    },
    "colab_type": "code",
    "id": "R7sD4iikfNhi",
    "outputId": "fe25050e-0160-4811-9a9f-e053d15aa915"
   },
   "outputs": [
    {
     "data": {
      "text/plain": [
       "[3.1, 0.9]"
      ]
     },
     "execution_count": 31,
     "metadata": {},
     "output_type": "execute_result"
    }
   ],
   "source": [
    "[np.mean(x) for x in data]"
   ]
  },
  {
   "cell_type": "code",
   "execution_count": 1,
   "metadata": {
    "colab": {
     "base_uri": "https://localhost:8080/",
     "height": 34
    },
    "colab_type": "code",
    "id": "b684VbLeN6V9",
    "outputId": "c20c1165-7974-473b-9bc4-1fd0b2d2a44e"
   },
   "outputs": [
    {
     "ename": "NameError",
     "evalue": "name 'np' is not defined",
     "output_type": "error",
     "traceback": [
      "\u001b[0;31m---------------------------------------------------------------------------\u001b[0m",
      "\u001b[0;31mNameError\u001b[0m                                 Traceback (most recent call last)",
      "\u001b[0;32m<ipython-input-1-293f66a0620e>\u001b[0m in \u001b[0;36m<module>\u001b[0;34m\u001b[0m\n\u001b[0;32m----> 1\u001b[0;31m \u001b[0ma\u001b[0m \u001b[0;34m=\u001b[0m \u001b[0mnp\u001b[0m\u001b[0;34m.\u001b[0m\u001b[0marray\u001b[0m\u001b[0;34m(\u001b[0m\u001b[0;34m(\u001b[0m\u001b[0;34m[\u001b[0m\u001b[0;36m1\u001b[0m\u001b[0;34m,\u001b[0m \u001b[0;36m2\u001b[0m\u001b[0;34m,\u001b[0m \u001b[0;36m3\u001b[0m\u001b[0;34m]\u001b[0m\u001b[0;34m,\u001b[0m \u001b[0;34m[\u001b[0m\u001b[0;36m4\u001b[0m\u001b[0;34m,\u001b[0m \u001b[0;36m5\u001b[0m\u001b[0;34m,\u001b[0m \u001b[0;36m6\u001b[0m\u001b[0;34m]\u001b[0m\u001b[0;34m)\u001b[0m\u001b[0;34m)\u001b[0m\u001b[0;34m\u001b[0m\u001b[0m\n\u001b[0m\u001b[1;32m      2\u001b[0m \u001b[0mlamb\u001b[0m \u001b[0;34m=\u001b[0m \u001b[0mnp\u001b[0m\u001b[0;34m.\u001b[0m\u001b[0marray\u001b[0m\u001b[0;34m(\u001b[0m\u001b[0;34m[\u001b[0m\u001b[0;36m1.6\u001b[0m\u001b[0;34m,\u001b[0m \u001b[0;36m2.4\u001b[0m\u001b[0;34m]\u001b[0m\u001b[0;34m)\u001b[0m\u001b[0;34m\u001b[0m\u001b[0m\n\u001b[1;32m      3\u001b[0m \u001b[0mcop\u001b[0m\u001b[0;34m.\u001b[0m\u001b[0mjoint_cdf\u001b[0m\u001b[0;34m(\u001b[0m\u001b[0ma\u001b[0m\u001b[0;34m,\u001b[0m \u001b[0mlamb\u001b[0m\u001b[0;34m)\u001b[0m\u001b[0;34m\u001b[0m\u001b[0m\n",
      "\u001b[0;31mNameError\u001b[0m: name 'np' is not defined"
     ]
    }
   ],
   "source": [
    "a = np.array(([1, 2, 3], [4, 5, 6]))\n",
    "lamb = np.array([1.6, 2.4])\n",
    "cop.joint_cdf(a, lamb)"
   ]
  },
  {
   "cell_type": "code",
   "execution_count": 38,
   "metadata": {
    "colab": {
     "base_uri": "https://localhost:8080/",
     "height": 375
    },
    "colab_type": "code",
    "id": "iC1ruKRYmGYv",
    "outputId": "65a85986-f645-4603-8c74-53aaf5ede330"
   },
   "outputs": [
    {
     "data": {
      "text/plain": [
       "array([0.14727729, 0.19007851, 0.05285465, 0.05167537, 0.20201612,\n",
       "       0.23339552, 0.13805546, 0.19755515, 0.19946197, 0.19946197])"
      ]
     },
     "execution_count": 38,
     "metadata": {},
     "output_type": "execute_result"
    }
   ],
   "source": [
    "a, l = multi_poisson.rvs(\"clayton\", size=(2,10))\n",
    "b = multi_poisson.pmf(a, l, cop)\n",
    "b"
   ]
  },
  {
   "cell_type": "code",
   "execution_count": 26,
   "metadata": {
    "colab": {
     "base_uri": "https://localhost:8080/",
     "height": 68
    },
    "colab_type": "code",
    "id": "aQ51E7gUHwVC",
    "outputId": "f5962a6b-7556-4667-d76b-d19b2b53a6f7"
   },
   "outputs": [
    {
     "name": "stdout",
     "output_type": "stream",
     "text": [
      "[[ 7.  5.  8. ...  4.  4. 10.]\n",
      " [ 2.  2.  1. ...  2.  2.  1.]]\n"
     ]
    }
   ],
   "source": [
    "cop_ = CopulaGenerator(1.5, \"gaussian\")\n",
    "data, mu = multi_poisson.rvs(\"gaussian\", size=(2,10))"
   ]
  },
  {
   "cell_type": "code",
   "execution_count": 39,
   "metadata": {},
   "outputs": [],
   "source": [
    "b[b == 0.14727729] = 1e-5"
   ]
  },
  {
   "cell_type": "code",
   "execution_count": 42,
   "metadata": {},
   "outputs": [
    {
     "data": {
      "text/plain": [
       "array([0])"
      ]
     },
     "execution_count": 42,
     "metadata": {},
     "output_type": "execute_result"
    }
   ],
   "source": [
    "g = np.array([1, 2, 3, 0])\n",
    "g[g == 0] "
   ]
  },
  {
   "cell_type": "code",
   "execution_count": 52,
   "metadata": {},
   "outputs": [
    {
     "data": {
      "text/plain": [
       "array([0.5       , 0.62408518, 0.73645537, 0.82860914, 0.89704839,\n",
       "       0.94307685, 0.97111021, 0.98657165, 0.99429398, 0.99778674])"
      ]
     },
     "execution_count": 52,
     "metadata": {},
     "output_type": "execute_result"
    }
   ],
   "source": [
    "a = norm.ppf(poisson.cdf(data[0], mu[0]))\n",
    "b = norm.ppf(poisson.cdf(data[1], mu[1]))\n",
    "c = []\n",
    "c.append(a)\n",
    "c.append(b)\n",
    "c = np.array(c)\n",
    "d = np.linspace(0, 5, 10, endpoint=False)\n",
    "multivariate_normal.cdf(d, mean=None, cov=2.5)"
   ]
  },
  {
   "cell_type": "code",
   "execution_count": 54,
   "metadata": {},
   "outputs": [],
   "source": [
    "e = np.array([[0.12603256, -0.64046918, 0.48342951, -1.0571831, -1.0571831, 1.15851755], [0.08137796, 0.08137796, -0.5879868, 0.08137796, 0.08137796, -0.5879868]])"
   ]
  },
  {
   "cell_type": "code",
   "execution_count": 55,
   "metadata": {},
   "outputs": [
    {
     "ename": "error",
     "evalue": "failed in converting 2nd argument `upper' of mvn.mvnun to C/Fortran array",
     "output_type": "error",
     "traceback": [
      "\u001b[0;31m---------------------------------------------------------------------------\u001b[0m",
      "\u001b[0;31merror\u001b[0m                                     Traceback (most recent call last)",
      "\u001b[0;32m<ipython-input-55-3008ce3e748a>\u001b[0m in \u001b[0;36m<module>\u001b[0;34m\u001b[0m\n\u001b[0;32m----> 1\u001b[0;31m \u001b[0mmultivariate_normal\u001b[0m\u001b[0;34m.\u001b[0m\u001b[0mcdf\u001b[0m\u001b[0;34m(\u001b[0m\u001b[0me\u001b[0m\u001b[0;34m,\u001b[0m \u001b[0mmean\u001b[0m\u001b[0;34m=\u001b[0m\u001b[0;32mNone\u001b[0m\u001b[0;34m,\u001b[0m \u001b[0mcov\u001b[0m\u001b[0;34m=\u001b[0m\u001b[0;36m2.5\u001b[0m\u001b[0;34m)\u001b[0m\u001b[0;34m\u001b[0m\u001b[0;34m\u001b[0m\u001b[0m\n\u001b[0m",
      "\u001b[0;32m~/miniconda3/envs/HonoursProject/lib/python3.7/site-packages/scipy/stats/_multivariate.py\u001b[0m in \u001b[0;36mcdf\u001b[0;34m(self, x, mean, cov, allow_singular, maxpts, abseps, releps)\u001b[0m\n\u001b[1;32m    630\u001b[0m         \u001b[0;32mif\u001b[0m \u001b[0;32mnot\u001b[0m \u001b[0mmaxpts\u001b[0m\u001b[0;34m:\u001b[0m\u001b[0;34m\u001b[0m\u001b[0;34m\u001b[0m\u001b[0m\n\u001b[1;32m    631\u001b[0m             \u001b[0mmaxpts\u001b[0m \u001b[0;34m=\u001b[0m \u001b[0;36m1000000\u001b[0m \u001b[0;34m*\u001b[0m \u001b[0mdim\u001b[0m\u001b[0;34m\u001b[0m\u001b[0;34m\u001b[0m\u001b[0m\n\u001b[0;32m--> 632\u001b[0;31m         \u001b[0mout\u001b[0m \u001b[0;34m=\u001b[0m \u001b[0mself\u001b[0m\u001b[0;34m.\u001b[0m\u001b[0m_cdf\u001b[0m\u001b[0;34m(\u001b[0m\u001b[0mx\u001b[0m\u001b[0;34m,\u001b[0m \u001b[0mmean\u001b[0m\u001b[0;34m,\u001b[0m \u001b[0mcov\u001b[0m\u001b[0;34m,\u001b[0m \u001b[0mmaxpts\u001b[0m\u001b[0;34m,\u001b[0m \u001b[0mabseps\u001b[0m\u001b[0;34m,\u001b[0m \u001b[0mreleps\u001b[0m\u001b[0;34m)\u001b[0m\u001b[0;34m\u001b[0m\u001b[0;34m\u001b[0m\u001b[0m\n\u001b[0m\u001b[1;32m    633\u001b[0m         \u001b[0;32mreturn\u001b[0m \u001b[0mout\u001b[0m\u001b[0;34m\u001b[0m\u001b[0;34m\u001b[0m\u001b[0m\n\u001b[1;32m    634\u001b[0m \u001b[0;34m\u001b[0m\u001b[0m\n",
      "\u001b[0;32m~/miniconda3/envs/HonoursProject/lib/python3.7/site-packages/scipy/stats/_multivariate.py\u001b[0m in \u001b[0;36m_cdf\u001b[0;34m(self, x, mean, cov, maxpts, abseps, releps)\u001b[0m\n\u001b[1;32m    552\u001b[0m         func1d = lambda x_slice: mvn.mvnun(lower, x_slice, mean, cov,\n\u001b[1;32m    553\u001b[0m                                            maxpts, abseps, releps)[0]\n\u001b[0;32m--> 554\u001b[0;31m         \u001b[0mout\u001b[0m \u001b[0;34m=\u001b[0m \u001b[0mnp\u001b[0m\u001b[0;34m.\u001b[0m\u001b[0mapply_along_axis\u001b[0m\u001b[0;34m(\u001b[0m\u001b[0mfunc1d\u001b[0m\u001b[0;34m,\u001b[0m \u001b[0;34m-\u001b[0m\u001b[0;36m1\u001b[0m\u001b[0;34m,\u001b[0m \u001b[0mx\u001b[0m\u001b[0;34m)\u001b[0m\u001b[0;34m\u001b[0m\u001b[0;34m\u001b[0m\u001b[0m\n\u001b[0m\u001b[1;32m    555\u001b[0m         \u001b[0;32mreturn\u001b[0m \u001b[0m_squeeze_output\u001b[0m\u001b[0;34m(\u001b[0m\u001b[0mout\u001b[0m\u001b[0;34m)\u001b[0m\u001b[0;34m\u001b[0m\u001b[0;34m\u001b[0m\u001b[0m\n\u001b[1;32m    556\u001b[0m \u001b[0;34m\u001b[0m\u001b[0m\n",
      "\u001b[0;32m<__array_function__ internals>\u001b[0m in \u001b[0;36mapply_along_axis\u001b[0;34m(*args, **kwargs)\u001b[0m\n",
      "\u001b[0;32m~/miniconda3/envs/HonoursProject/lib/python3.7/site-packages/numpy/lib/shape_base.py\u001b[0m in \u001b[0;36mapply_along_axis\u001b[0;34m(func1d, axis, arr, *args, **kwargs)\u001b[0m\n\u001b[1;32m    377\u001b[0m     \u001b[0;32mexcept\u001b[0m \u001b[0mStopIteration\u001b[0m\u001b[0;34m:\u001b[0m\u001b[0;34m\u001b[0m\u001b[0;34m\u001b[0m\u001b[0m\n\u001b[1;32m    378\u001b[0m         \u001b[0;32mraise\u001b[0m \u001b[0mValueError\u001b[0m\u001b[0;34m(\u001b[0m\u001b[0;34m'Cannot apply_along_axis when any iteration dimensions are 0'\u001b[0m\u001b[0;34m)\u001b[0m\u001b[0;34m\u001b[0m\u001b[0;34m\u001b[0m\u001b[0m\n\u001b[0;32m--> 379\u001b[0;31m     \u001b[0mres\u001b[0m \u001b[0;34m=\u001b[0m \u001b[0masanyarray\u001b[0m\u001b[0;34m(\u001b[0m\u001b[0mfunc1d\u001b[0m\u001b[0;34m(\u001b[0m\u001b[0minarr_view\u001b[0m\u001b[0;34m[\u001b[0m\u001b[0mind0\u001b[0m\u001b[0;34m]\u001b[0m\u001b[0;34m,\u001b[0m \u001b[0;34m*\u001b[0m\u001b[0margs\u001b[0m\u001b[0;34m,\u001b[0m \u001b[0;34m**\u001b[0m\u001b[0mkwargs\u001b[0m\u001b[0;34m)\u001b[0m\u001b[0;34m)\u001b[0m\u001b[0;34m\u001b[0m\u001b[0;34m\u001b[0m\u001b[0m\n\u001b[0m\u001b[1;32m    380\u001b[0m \u001b[0;34m\u001b[0m\u001b[0m\n\u001b[1;32m    381\u001b[0m     \u001b[0;31m# build a buffer for storing evaluations of func1d.\u001b[0m\u001b[0;34m\u001b[0m\u001b[0;34m\u001b[0m\u001b[0;34m\u001b[0m\u001b[0m\n",
      "\u001b[0;32m~/miniconda3/envs/HonoursProject/lib/python3.7/site-packages/scipy/stats/_multivariate.py\u001b[0m in \u001b[0;36m<lambda>\u001b[0;34m(x_slice)\u001b[0m\n\u001b[1;32m    551\u001b[0m         \u001b[0;31m# mvnun expects 1-d arguments, so process points sequentially\u001b[0m\u001b[0;34m\u001b[0m\u001b[0;34m\u001b[0m\u001b[0;34m\u001b[0m\u001b[0m\n\u001b[1;32m    552\u001b[0m         func1d = lambda x_slice: mvn.mvnun(lower, x_slice, mean, cov,\n\u001b[0;32m--> 553\u001b[0;31m                                            maxpts, abseps, releps)[0]\n\u001b[0m\u001b[1;32m    554\u001b[0m         \u001b[0mout\u001b[0m \u001b[0;34m=\u001b[0m \u001b[0mnp\u001b[0m\u001b[0;34m.\u001b[0m\u001b[0mapply_along_axis\u001b[0m\u001b[0;34m(\u001b[0m\u001b[0mfunc1d\u001b[0m\u001b[0;34m,\u001b[0m \u001b[0;34m-\u001b[0m\u001b[0;36m1\u001b[0m\u001b[0;34m,\u001b[0m \u001b[0mx\u001b[0m\u001b[0;34m)\u001b[0m\u001b[0;34m\u001b[0m\u001b[0;34m\u001b[0m\u001b[0m\n\u001b[1;32m    555\u001b[0m         \u001b[0;32mreturn\u001b[0m \u001b[0m_squeeze_output\u001b[0m\u001b[0;34m(\u001b[0m\u001b[0mout\u001b[0m\u001b[0;34m)\u001b[0m\u001b[0;34m\u001b[0m\u001b[0;34m\u001b[0m\u001b[0m\n",
      "\u001b[0;31merror\u001b[0m: failed in converting 2nd argument `upper' of mvn.mvnun to C/Fortran array"
     ]
    }
   ],
   "source": [
    "multivariate_normal.cdf(e, mean=None, cov=2.5)"
   ]
  },
  {
   "cell_type": "code",
   "execution_count": null,
   "metadata": {},
   "outputs": [],
   "source": []
  }
 ],
 "metadata": {
  "colab": {
   "collapsed_sections": [],
   "name": "Data Sampling.ipynb",
   "provenance": []
  },
  "kernelspec": {
   "display_name": "Honours Project",
   "language": "python",
   "name": "honoursproject"
  },
  "language_info": {
   "codemirror_mode": {
    "name": "ipython",
    "version": 3
   },
   "file_extension": ".py",
   "mimetype": "text/x-python",
   "name": "python",
   "nbconvert_exporter": "python",
   "pygments_lexer": "ipython3",
   "version": "3.7.5"
  }
 },
 "nbformat": 4,
 "nbformat_minor": 1
}
