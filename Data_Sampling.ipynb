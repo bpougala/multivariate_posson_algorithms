{
 "cells": [
  {
   "cell_type": "code",
   "execution_count": 1,
   "metadata": {
    "colab": {
     "base_uri": "https://localhost:8080/",
     "height": 51
    },
    "colab_type": "code",
    "id": "Tty-V3hv6k-N",
    "outputId": "5f813ef3-6aa4-4d7b-d79c-52676ebae714"
   },
   "outputs": [],
   "source": [
    "import numpy as np\n",
    "from scipy.stats import poisson\n",
    "import matplotlib.pyplot as plt\n",
    "from mpl_toolkits.mplot3d import Axes3D\n",
    "%load_ext autoreload\n",
    "%autoreload 2"
   ]
  },
  {
   "cell_type": "code",
   "execution_count": 3,
   "metadata": {
    "colab": {},
    "colab_type": "code",
    "id": "QHrDwh_B6pig"
   },
   "outputs": [],
   "source": [
    "from MultivariatePoisson import MultivariatePoisson as mvp\n",
    "from scipy.stats import norm, multivariate_normal"
   ]
  },
  {
   "cell_type": "code",
   "execution_count": 4,
   "metadata": {
    "colab": {
     "base_uri": "https://localhost:8080/",
     "height": 85
    },
    "colab_type": "code",
    "id": "N0eHJcSW83tu",
    "outputId": "0adcff27-6911-4bf8-fa14-c6da95e7af2f"
   },
   "outputs": [
    {
     "data": {
      "text/plain": [
       "(array([[11.,  7.,  6.,  7.,  8.,  9.,  6., 11.,  7.,  8.],\n",
       "        [12., 14.,  8., 10., 11., 10., 11., 15.,  9., 10.],\n",
       "        [10.,  3.,  6.,  6.,  8.,  9.,  3., 10.,  7.,  7.]]),\n",
       " array([6.50996919, 9.20413491, 5.94514176]))"
      ]
     },
     "execution_count": 4,
     "metadata": {},
     "output_type": "execute_result"
    }
   ],
   "source": [
    "multi_poisson = mvp()\n",
    "multi_poisson.rvs(family=\"gumbel\",size=(3,10))"
   ]
  },
  {
   "cell_type": "code",
   "execution_count": 5,
   "metadata": {
    "colab": {
     "base_uri": "https://localhost:8080/",
     "height": 85
    },
    "colab_type": "code",
    "id": "KwxHtWa_9MdE",
    "outputId": "6359fdf3-b2ea-4c37-b48c-c2db523acad7"
   },
   "outputs": [
    {
     "data": {
      "text/plain": [
       "(array([[14.,  0.,  1., ...,  7.,  5., 12.],\n",
       "        [ 9.,  2.,  4., ...,  9.,  5., 11.],\n",
       "        [10.,  5.,  5., ...,  7.,  6.,  8.]]),\n",
       " array([4.66210916, 6.76564464, 7.22372109]))"
      ]
     },
     "execution_count": 5,
     "metadata": {},
     "output_type": "execute_result"
    }
   ],
   "source": [
    "multi_poisson.rvs(family=\"gaussian\", size=3)"
   ]
  },
  {
   "cell_type": "code",
   "execution_count": 6,
   "metadata": {
    "colab": {},
    "colab_type": "code",
    "id": "HdUyj9f8-IsQ"
   },
   "outputs": [],
   "source": [
    "from CopulaGenerator import CopulaGenerator\n",
    "cop = CopulaGenerator(2.5, \"clayton\")"
   ]
  },
  {
   "cell_type": "code",
   "execution_count": 7,
   "metadata": {
    "colab": {
     "base_uri": "https://localhost:8080/",
     "height": 51
    },
    "colab_type": "code",
    "id": "1vv-hc6mBjRI",
    "outputId": "a1affca7-4d7d-4c34-b8d4-115b65be32e1"
   },
   "outputs": [
    {
     "data": {
      "text/plain": [
       "array([[ 1.,  0.,  1.,  1.,  2.,  1.,  0.,  2.,  0.,  0.],\n",
       "       [ 5.,  4.,  5.,  4.,  4.,  5.,  2., 10.,  3.,  7.]])"
      ]
     },
     "execution_count": 7,
     "metadata": {},
     "output_type": "execute_result"
    }
   ],
   "source": [
    "data, mu = multi_poisson.rvs(\"clayton\", size=(2,10))\n",
    "data"
   ]
  },
  {
   "cell_type": "code",
   "execution_count": 12,
   "metadata": {
    "colab": {
     "base_uri": "https://localhost:8080/",
     "height": 34
    },
    "colab_type": "code",
    "id": "se6CO8s6b1Ur",
    "outputId": "93d6b746-6d6f-4b73-c33b-1d277ce03afd"
   },
   "outputs": [
    {
     "ename": "ImportError",
     "evalue": "cannot import name 'maximize' from 'scipy.optimize' (/Users/BikoP/miniconda3/envs/HonoursProject/lib/python3.7/site-packages/scipy/optimize/__init__.py)",
     "output_type": "error",
     "traceback": [
      "\u001b[0;31m---------------------------------------------------------------------------\u001b[0m",
      "\u001b[0;31mImportError\u001b[0m                               Traceback (most recent call last)",
      "\u001b[0;32m<ipython-input-12-b79cf84ab80d>\u001b[0m in \u001b[0;36m<module>\u001b[0;34m\u001b[0m\n\u001b[0;32m----> 1\u001b[0;31m \u001b[0;32mfrom\u001b[0m \u001b[0mscipy\u001b[0m\u001b[0;34m.\u001b[0m\u001b[0moptimize\u001b[0m \u001b[0;32mimport\u001b[0m \u001b[0mmaximize\u001b[0m\u001b[0;34m\u001b[0m\u001b[0;34m\u001b[0m\u001b[0m\n\u001b[0m",
      "\u001b[0;31mImportError\u001b[0m: cannot import name 'maximize' from 'scipy.optimize' (/Users/BikoP/miniconda3/envs/HonoursProject/lib/python3.7/site-packages/scipy/optimize/__init__.py)"
     ]
    }
   ],
   "source": [
    "from scipy.optimize import maximize"
   ]
  },
  {
   "cell_type": "code",
   "execution_count": 16,
   "metadata": {
    "colab": {
     "base_uri": "https://localhost:8080/",
     "height": 34
    },
    "colab_type": "code",
    "id": "M0QWDa-Agnl1",
    "outputId": "9adbf275-a380-43d2-e5c8-777bea244067"
   },
   "outputs": [
    {
     "name": "stdout",
     "output_type": "stream",
     "text": [
      "iteration: [0.14322776 0.09946444 0.14322776 0.16497439 0.17613841 0.14322776\n",
      " 0.08729188 0.01392405 0.12321447 0.01067438]\n",
      "iteration: [0.14322776 0.09946444 0.14322776 0.16497439 0.17613841 0.14322776\n",
      " 0.08729188 0.01392405 0.12321447 0.01067438]\n",
      "iteration: [0.14887191 0.10900136 0.14887191 0.17088989 0.17746902 0.14887191\n",
      " 0.08889479 0.01334261 0.13374916 0.00606578]\n",
      "iteration: [0.13750972 0.08441677 0.13750972 0.15024812 0.1721367  0.13750972\n",
      " 0.07032476 0.01496711 0.090453   0.02647336]\n",
      "iteration: [0.13864282 0.08971402 0.13864282 0.15634373 0.17390582 0.13864282\n",
      " 0.08085167 0.01455126 0.10542917 0.01864798]\n",
      "iteration: [0.13864282 0.08971402 0.13864282 0.15634373 0.17390582 0.13864282\n",
      " 0.08085167 0.01455126 0.10542917 0.01864798]\n",
      "iteration: [0.14013754 0.09336745 0.14013754 0.15992841 0.17487258 0.14013754\n",
      " 0.08434693 0.01430579 0.11319086 0.01507012]\n",
      "iteration: [0.13797459 0.08756354 0.13797459 0.15400927 0.17324681 0.13797459\n",
      " 0.07767218 0.0147076  0.10002274 0.02129887]\n",
      "iteration: [0.138676   0.08980713 0.138676   0.15644087 0.17393275 0.138676\n",
      " 0.08096657 0.01454474 0.10564753 0.01854407]\n",
      "iteration: [0.13861002 0.08962109 0.13861002 0.15624646 0.17387883 0.13861002\n",
      " 0.08073533 0.01455779 0.10521002 0.0187525 ]\n",
      "iteration: [0.13814172 0.08195335 0.13814172 0.1469551  0.17111647 0.13814172\n",
      " 0.0598382  0.01523162 0.08025065 0.03299778]\n",
      "iteration: [0.13864282 0.08971402 0.13864282 0.15634373 0.17390582 0.13864282\n",
      " 0.08085167 0.01455126 0.10542917 0.01864798]\n",
      "iteration: [0.14323795 0.09948299 0.14323795 0.16498812 0.1761417  0.14323795\n",
      " 0.08729753 0.01392292 0.12324041 0.01066314]\n",
      "iteration: [0.14329661 0.08039731 0.14329661 0.14481283 0.17043383 0.14329661\n",
      " 0.03431957 0.01568417 0.06178835 0.04859568]\n",
      "iteration: [0.13864282 0.08971402 0.13864282 0.15634373 0.17390582 0.13864282\n",
      " 0.08085167 0.01455126 0.10542917 0.01864798]\n",
      "iteration: [0.13750967 0.08443086 0.13750967 0.15026599 0.17214212 0.13750967\n",
      " 0.07036841 0.01496582 0.09050204 0.02644486]\n",
      "iteration: [0.14014073 0.09337447 0.14014073 0.15993486 0.17487427 0.14014073\n",
      " 0.08435199 0.01430533 0.11320433 0.01506409]\n",
      "iteration: [0.13869519 0.08986062 0.13869519 0.15649653 0.17394815 0.13869519\n",
      " 0.08103184 0.014541   0.10577244 0.01848472]\n",
      "iteration: [0.13863449 0.0896905  0.13863449 0.15631914 0.173899   0.13863449\n",
      " 0.08082238 0.01455291 0.10537382 0.01867436]\n",
      "iteration: [0.13863641 0.08969594 0.13863641 0.15632483 0.17390058 0.13863641\n",
      " 0.08082916 0.01455253 0.10538663 0.01866825]\n",
      "iteration: [0.13863648 0.08969612 0.13863648 0.15632502 0.17390063 0.13863648\n",
      " 0.08082939 0.01455252 0.10538706 0.01866805]\n",
      "iteration: [0.13863635 0.08969576 0.13863635 0.15632465 0.17390053 0.13863635\n",
      " 0.08082894 0.01455255 0.1053862  0.01866845]\n",
      "Optimization terminated successfully.\n",
      "         Current function value: 10.822870\n",
      "         Iterations: 2\n",
      "         Function evaluations: 22\n"
     ]
    },
    {
     "data": {
      "text/plain": [
       "   direc: array([[1.]])\n",
       "     fun: 10.822870419313968\n",
       " message: 'Optimization terminated successfully.'\n",
       "    nfev: 22\n",
       "     nit: 2\n",
       "  status: 0\n",
       " success: True\n",
       "       x: array(1.49993801)"
      ]
     },
     "execution_count": 16,
     "metadata": {},
     "output_type": "execute_result"
    }
   ],
   "source": [
    "a = poisson.pmf(data, np.mean(mu[0]))\n",
    "np.log10(sum(a[0])) + np.log10(sum(a[1]))\n",
    "def log_likelihood(cop_param, data):\n",
    "    cop = CopulaGenerator(cop_param[0], \"clayton\")\n",
    "    mean = np.array([np.mean(x) for x in data])\n",
    "    pm = multi_poisson.pmf(data, mean, cop)\n",
    "    print(\"iteration: \" + str(pm))\n",
    "    return -sum(np.log10(pm))\n",
    "\n",
    "minimize(log_likelihood, np.array([2.5]), data, method='powell', options={'disp': True})"
   ]
  },
  {
   "cell_type": "code",
   "execution_count": 31,
   "metadata": {
    "colab": {
     "base_uri": "https://localhost:8080/",
     "height": 68
    },
    "colab_type": "code",
    "id": "R7sD4iikfNhi",
    "outputId": "fe25050e-0160-4811-9a9f-e053d15aa915"
   },
   "outputs": [
    {
     "data": {
      "text/plain": [
       "[3.1, 0.9]"
      ]
     },
     "execution_count": 31,
     "metadata": {},
     "output_type": "execute_result"
    }
   ],
   "source": [
    "[np.mean(x) for x in data]"
   ]
  },
  {
   "cell_type": "code",
   "execution_count": 10,
   "metadata": {
    "colab": {
     "base_uri": "https://localhost:8080/",
     "height": 34
    },
    "colab_type": "code",
    "id": "b684VbLeN6V9",
    "outputId": "c20c1165-7974-473b-9bc4-1fd0b2d2a44e"
   },
   "outputs": [
    {
     "data": {
      "text/plain": [
       "array([0.51337955, 0.76774194, 0.91245515])"
      ]
     },
     "execution_count": 10,
     "metadata": {},
     "output_type": "execute_result"
    }
   ],
   "source": [
    "a = np.array(([1, 2, 3], [4, 5, 6]))\n",
    "lamb = np.array([1.6, 2.4])\n",
    "cop.joint_cdf(a, lamb)"
   ]
  },
  {
   "cell_type": "code",
   "execution_count": 38,
   "metadata": {
    "colab": {
     "base_uri": "https://localhost:8080/",
     "height": 375
    },
    "colab_type": "code",
    "id": "iC1ruKRYmGYv",
    "outputId": "65a85986-f645-4603-8c74-53aaf5ede330"
   },
   "outputs": [
    {
     "data": {
      "text/plain": [
       "array([0.14727729, 0.19007851, 0.05285465, 0.05167537, 0.20201612,\n",
       "       0.23339552, 0.13805546, 0.19755515, 0.19946197, 0.19946197])"
      ]
     },
     "execution_count": 38,
     "metadata": {},
     "output_type": "execute_result"
    }
   ],
   "source": [
    "a, l = multi_poisson.rvs(\"clayton\", size=(2,10))\n",
    "b = multi_poisson.pmf(a, l, cop)\n",
    "b"
   ]
  },
  {
   "cell_type": "code",
   "execution_count": 26,
   "metadata": {
    "colab": {
     "base_uri": "https://localhost:8080/",
     "height": 68
    },
    "colab_type": "code",
    "id": "aQ51E7gUHwVC",
    "outputId": "f5962a6b-7556-4667-d76b-d19b2b53a6f7"
   },
   "outputs": [
    {
     "name": "stdout",
     "output_type": "stream",
     "text": [
      "[[ 7.  5.  8. ...  4.  4. 10.]\n",
      " [ 2.  2.  1. ...  2.  2.  1.]]\n"
     ]
    }
   ],
   "source": [
    "cop_ = CopulaGenerator(1.5, \"gaussian\")\n",
    "data, mu = multi_poisson.rvs(\"gaussian\", size=(2,10))"
   ]
  },
  {
   "cell_type": "code",
   "execution_count": 39,
   "metadata": {},
   "outputs": [],
   "source": [
    "b[b == 0.14727729] = 1e-5"
   ]
  },
  {
   "cell_type": "code",
   "execution_count": 42,
   "metadata": {},
   "outputs": [
    {
     "data": {
      "text/plain": [
       "array([0])"
      ]
     },
     "execution_count": 42,
     "metadata": {},
     "output_type": "execute_result"
    }
   ],
   "source": [
    "g = np.array([1, 2, 3, 0])\n",
    "g[g == 0] "
   ]
  },
  {
   "cell_type": "code",
   "execution_count": 52,
   "metadata": {},
   "outputs": [
    {
     "data": {
      "text/plain": [
       "array([0.5       , 0.62408518, 0.73645537, 0.82860914, 0.89704839,\n",
       "       0.94307685, 0.97111021, 0.98657165, 0.99429398, 0.99778674])"
      ]
     },
     "execution_count": 52,
     "metadata": {},
     "output_type": "execute_result"
    }
   ],
   "source": [
    "a = norm.ppf(poisson.cdf(data[0], mu[0]))\n",
    "b = norm.ppf(poisson.cdf(data[1], mu[1]))\n",
    "c = []\n",
    "c.append(a)\n",
    "c.append(b)\n",
    "c = np.array(c)\n",
    "d = np.linspace(0, 5, 10, endpoint=False)\n",
    "multivariate_normal.cdf(d, mean=None, cov=2.5)"
   ]
  },
  {
   "cell_type": "code",
   "execution_count": 54,
   "metadata": {},
   "outputs": [],
   "source": [
    "e = np.array([[0.12603256, -0.64046918, 0.48342951, -1.0571831, -1.0571831, 1.15851755], [0.08137796, 0.08137796, -0.5879868, 0.08137796, 0.08137796, -0.5879868]])"
   ]
  },
  {
   "cell_type": "code",
   "execution_count": 55,
   "metadata": {},
   "outputs": [
    {
     "ename": "error",
     "evalue": "failed in converting 2nd argument `upper' of mvn.mvnun to C/Fortran array",
     "output_type": "error",
     "traceback": [
      "\u001b[0;31m---------------------------------------------------------------------------\u001b[0m",
      "\u001b[0;31merror\u001b[0m                                     Traceback (most recent call last)",
      "\u001b[0;32m<ipython-input-55-3008ce3e748a>\u001b[0m in \u001b[0;36m<module>\u001b[0;34m\u001b[0m\n\u001b[0;32m----> 1\u001b[0;31m \u001b[0mmultivariate_normal\u001b[0m\u001b[0;34m.\u001b[0m\u001b[0mcdf\u001b[0m\u001b[0;34m(\u001b[0m\u001b[0me\u001b[0m\u001b[0;34m,\u001b[0m \u001b[0mmean\u001b[0m\u001b[0;34m=\u001b[0m\u001b[0;32mNone\u001b[0m\u001b[0;34m,\u001b[0m \u001b[0mcov\u001b[0m\u001b[0;34m=\u001b[0m\u001b[0;36m2.5\u001b[0m\u001b[0;34m)\u001b[0m\u001b[0;34m\u001b[0m\u001b[0;34m\u001b[0m\u001b[0m\n\u001b[0m",
      "\u001b[0;32m~/miniconda3/envs/HonoursProject/lib/python3.7/site-packages/scipy/stats/_multivariate.py\u001b[0m in \u001b[0;36mcdf\u001b[0;34m(self, x, mean, cov, allow_singular, maxpts, abseps, releps)\u001b[0m\n\u001b[1;32m    630\u001b[0m         \u001b[0;32mif\u001b[0m \u001b[0;32mnot\u001b[0m \u001b[0mmaxpts\u001b[0m\u001b[0;34m:\u001b[0m\u001b[0;34m\u001b[0m\u001b[0;34m\u001b[0m\u001b[0m\n\u001b[1;32m    631\u001b[0m             \u001b[0mmaxpts\u001b[0m \u001b[0;34m=\u001b[0m \u001b[0;36m1000000\u001b[0m \u001b[0;34m*\u001b[0m \u001b[0mdim\u001b[0m\u001b[0;34m\u001b[0m\u001b[0;34m\u001b[0m\u001b[0m\n\u001b[0;32m--> 632\u001b[0;31m         \u001b[0mout\u001b[0m \u001b[0;34m=\u001b[0m \u001b[0mself\u001b[0m\u001b[0;34m.\u001b[0m\u001b[0m_cdf\u001b[0m\u001b[0;34m(\u001b[0m\u001b[0mx\u001b[0m\u001b[0;34m,\u001b[0m \u001b[0mmean\u001b[0m\u001b[0;34m,\u001b[0m \u001b[0mcov\u001b[0m\u001b[0;34m,\u001b[0m \u001b[0mmaxpts\u001b[0m\u001b[0;34m,\u001b[0m \u001b[0mabseps\u001b[0m\u001b[0;34m,\u001b[0m \u001b[0mreleps\u001b[0m\u001b[0;34m)\u001b[0m\u001b[0;34m\u001b[0m\u001b[0;34m\u001b[0m\u001b[0m\n\u001b[0m\u001b[1;32m    633\u001b[0m         \u001b[0;32mreturn\u001b[0m \u001b[0mout\u001b[0m\u001b[0;34m\u001b[0m\u001b[0;34m\u001b[0m\u001b[0m\n\u001b[1;32m    634\u001b[0m \u001b[0;34m\u001b[0m\u001b[0m\n",
      "\u001b[0;32m~/miniconda3/envs/HonoursProject/lib/python3.7/site-packages/scipy/stats/_multivariate.py\u001b[0m in \u001b[0;36m_cdf\u001b[0;34m(self, x, mean, cov, maxpts, abseps, releps)\u001b[0m\n\u001b[1;32m    552\u001b[0m         func1d = lambda x_slice: mvn.mvnun(lower, x_slice, mean, cov,\n\u001b[1;32m    553\u001b[0m                                            maxpts, abseps, releps)[0]\n\u001b[0;32m--> 554\u001b[0;31m         \u001b[0mout\u001b[0m \u001b[0;34m=\u001b[0m \u001b[0mnp\u001b[0m\u001b[0;34m.\u001b[0m\u001b[0mapply_along_axis\u001b[0m\u001b[0;34m(\u001b[0m\u001b[0mfunc1d\u001b[0m\u001b[0;34m,\u001b[0m \u001b[0;34m-\u001b[0m\u001b[0;36m1\u001b[0m\u001b[0;34m,\u001b[0m \u001b[0mx\u001b[0m\u001b[0;34m)\u001b[0m\u001b[0;34m\u001b[0m\u001b[0;34m\u001b[0m\u001b[0m\n\u001b[0m\u001b[1;32m    555\u001b[0m         \u001b[0;32mreturn\u001b[0m \u001b[0m_squeeze_output\u001b[0m\u001b[0;34m(\u001b[0m\u001b[0mout\u001b[0m\u001b[0;34m)\u001b[0m\u001b[0;34m\u001b[0m\u001b[0;34m\u001b[0m\u001b[0m\n\u001b[1;32m    556\u001b[0m \u001b[0;34m\u001b[0m\u001b[0m\n",
      "\u001b[0;32m<__array_function__ internals>\u001b[0m in \u001b[0;36mapply_along_axis\u001b[0;34m(*args, **kwargs)\u001b[0m\n",
      "\u001b[0;32m~/miniconda3/envs/HonoursProject/lib/python3.7/site-packages/numpy/lib/shape_base.py\u001b[0m in \u001b[0;36mapply_along_axis\u001b[0;34m(func1d, axis, arr, *args, **kwargs)\u001b[0m\n\u001b[1;32m    377\u001b[0m     \u001b[0;32mexcept\u001b[0m \u001b[0mStopIteration\u001b[0m\u001b[0;34m:\u001b[0m\u001b[0;34m\u001b[0m\u001b[0;34m\u001b[0m\u001b[0m\n\u001b[1;32m    378\u001b[0m         \u001b[0;32mraise\u001b[0m \u001b[0mValueError\u001b[0m\u001b[0;34m(\u001b[0m\u001b[0;34m'Cannot apply_along_axis when any iteration dimensions are 0'\u001b[0m\u001b[0;34m)\u001b[0m\u001b[0;34m\u001b[0m\u001b[0;34m\u001b[0m\u001b[0m\n\u001b[0;32m--> 379\u001b[0;31m     \u001b[0mres\u001b[0m \u001b[0;34m=\u001b[0m \u001b[0masanyarray\u001b[0m\u001b[0;34m(\u001b[0m\u001b[0mfunc1d\u001b[0m\u001b[0;34m(\u001b[0m\u001b[0minarr_view\u001b[0m\u001b[0;34m[\u001b[0m\u001b[0mind0\u001b[0m\u001b[0;34m]\u001b[0m\u001b[0;34m,\u001b[0m \u001b[0;34m*\u001b[0m\u001b[0margs\u001b[0m\u001b[0;34m,\u001b[0m \u001b[0;34m**\u001b[0m\u001b[0mkwargs\u001b[0m\u001b[0;34m)\u001b[0m\u001b[0;34m)\u001b[0m\u001b[0;34m\u001b[0m\u001b[0;34m\u001b[0m\u001b[0m\n\u001b[0m\u001b[1;32m    380\u001b[0m \u001b[0;34m\u001b[0m\u001b[0m\n\u001b[1;32m    381\u001b[0m     \u001b[0;31m# build a buffer for storing evaluations of func1d.\u001b[0m\u001b[0;34m\u001b[0m\u001b[0;34m\u001b[0m\u001b[0;34m\u001b[0m\u001b[0m\n",
      "\u001b[0;32m~/miniconda3/envs/HonoursProject/lib/python3.7/site-packages/scipy/stats/_multivariate.py\u001b[0m in \u001b[0;36m<lambda>\u001b[0;34m(x_slice)\u001b[0m\n\u001b[1;32m    551\u001b[0m         \u001b[0;31m# mvnun expects 1-d arguments, so process points sequentially\u001b[0m\u001b[0;34m\u001b[0m\u001b[0;34m\u001b[0m\u001b[0;34m\u001b[0m\u001b[0m\n\u001b[1;32m    552\u001b[0m         func1d = lambda x_slice: mvn.mvnun(lower, x_slice, mean, cov,\n\u001b[0;32m--> 553\u001b[0;31m                                            maxpts, abseps, releps)[0]\n\u001b[0m\u001b[1;32m    554\u001b[0m         \u001b[0mout\u001b[0m \u001b[0;34m=\u001b[0m \u001b[0mnp\u001b[0m\u001b[0;34m.\u001b[0m\u001b[0mapply_along_axis\u001b[0m\u001b[0;34m(\u001b[0m\u001b[0mfunc1d\u001b[0m\u001b[0;34m,\u001b[0m \u001b[0;34m-\u001b[0m\u001b[0;36m1\u001b[0m\u001b[0;34m,\u001b[0m \u001b[0mx\u001b[0m\u001b[0;34m)\u001b[0m\u001b[0;34m\u001b[0m\u001b[0;34m\u001b[0m\u001b[0m\n\u001b[1;32m    555\u001b[0m         \u001b[0;32mreturn\u001b[0m \u001b[0m_squeeze_output\u001b[0m\u001b[0;34m(\u001b[0m\u001b[0mout\u001b[0m\u001b[0;34m)\u001b[0m\u001b[0;34m\u001b[0m\u001b[0;34m\u001b[0m\u001b[0m\n",
      "\u001b[0;31merror\u001b[0m: failed in converting 2nd argument `upper' of mvn.mvnun to C/Fortran array"
     ]
    }
   ],
   "source": [
    "multivariate_normal.cdf(e, mean=None, cov=2.5)"
   ]
  },
  {
   "cell_type": "code",
   "execution_count": null,
   "metadata": {},
   "outputs": [],
   "source": []
  }
 ],
 "metadata": {
  "colab": {
   "collapsed_sections": [],
   "name": "Data Sampling.ipynb",
   "provenance": []
  },
  "kernelspec": {
   "display_name": "HonoursProject",
   "language": "python",
   "name": "honoursproject"
  },
  "language_info": {
   "codemirror_mode": {
    "name": "ipython",
    "version": 3
   },
   "file_extension": ".py",
   "mimetype": "text/x-python",
   "name": "python",
   "nbconvert_exporter": "python",
   "pygments_lexer": "ipython3",
   "version": "3.7.6"
  }
 },
 "nbformat": 4,
 "nbformat_minor": 1
}
