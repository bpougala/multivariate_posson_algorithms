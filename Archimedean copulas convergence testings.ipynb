{
 "cells": [
  {
   "cell_type": "code",
   "execution_count": 1,
   "metadata": {
    "pycharm": {
     "is_executing": false
    }
   },
   "outputs": [],
   "source": [
    "import numpy as np\n",
    "from scipy.stats import poisson\n",
    "import matplotlib.pyplot as plt\n",
    "from mpl_toolkits.mplot3d import Axes3D\n",
    "from MultivariatePoisson import MultivariatePoisson as mvp\n",
    "from scipy.stats import norm, multivariate_normal\n",
    "from CopulaGenerator import CopulaGenerator\n",
    "from scipy.optimize import minimize\n",
    "%load_ext autoreload\n",
    "%autoreload 2"
   ]
  },
  {
   "cell_type": "code",
   "execution_count": 5,
   "metadata": {
    "pycharm": {
     "is_executing": false
    }
   },
   "outputs": [
    {
     "name": "stdout",
     "output_type": "stream",
     "text": [
      "Warning: Desired error not necessarily achieved due to precision loss.\n",
      "         Current function value: 344.485456\n",
      "         Iterations: 6\n",
      "         Function evaluations: 279\n",
      "         Gradient evaluations: 89\n",
      "      fun: 344.48545584587686\n",
      " hess_inv: array([[0.24480038]])\n",
      "      jac: array([0.00021744])\n",
      "  message: 'Desired error not necessarily achieved due to precision loss.'\n",
      "     nfev: 279\n",
      "      nit: 6\n",
      "     njev: 89\n",
      "   status: 2\n",
      "  success: False\n",
      "        x: array([1.56380615])\n"
     ]
    },
    {
     "data": {
      "text/plain": [
       "(array([1.56380615]), array([1.75, 1.15]))"
      ]
     },
     "execution_count": 5,
     "metadata": {},
     "output_type": "execute_result"
    }
   ],
   "source": [
    "mp = mvp(\"clayton\", 4.6)\n",
    "data, mean = mp.rvs(size=(2, 20))\n",
    "mp.optimise_params(data, mean, 11.0)"
   ]
  },
  {
   "cell_type": "code",
   "execution_count": 6,
   "metadata": {},
   "outputs": [
    {
     "name": "stdout",
     "output_type": "stream",
     "text": [
      "      fun: 2333.483152878545\n",
      " hess_inv: array([[1.23751257e-08]])\n",
      "      jac: array([6.10351562e-05])\n",
      "  message: 'Desired error not necessarily achieved due to precision loss.'\n",
      "     nfev: 462\n",
      "      nit: 6\n",
      "     njev: 150\n",
      "   status: 2\n",
      "  success: False\n",
      "        x: array([0.64770011])\n",
      "[0.64770011]\n"
     ]
    }
   ],
   "source": [
    "mp = mvp(\"clayton\", 4.6)\n",
    "data, mean = mp.rvs(size=(2, 50))\n",
    "x, mu = mp.optimise_params(data, mean, 11.0)\n",
    "print(x)"
   ]
  },
  {
   "cell_type": "code",
   "execution_count": 4,
   "metadata": {},
   "outputs": [
    {
     "name": "stdout",
     "output_type": "stream",
     "text": [
      "Warning: Desired error not necessarily achieved due to precision loss.\n",
      "         Current function value: 6554.900647\n",
      "         Iterations: 6\n",
      "         Function evaluations: 280\n",
      "         Gradient evaluations: 90\n",
      "      fun: 6554.900647050347\n",
      " hess_inv: array([[0.08982279]])\n",
      "      jac: array([0.00079346])\n",
      "  message: 'Desired error not necessarily achieved due to precision loss.'\n",
      "     nfev: 280\n",
      "      nit: 6\n",
      "     njev: 90\n",
      "   status: 2\n",
      "  success: False\n",
      "        x: array([1.99846383])\n"
     ]
    },
    {
     "data": {
      "text/plain": [
       "(array([1.99846383]), array([8.62857143, 9.91428571]))"
      ]
     },
     "execution_count": 4,
     "metadata": {},
     "output_type": "execute_result"
    }
   ],
   "source": [
    "mp = mvp(\"clayton\", 4.6)\n",
    "data, mean = mp.rvs(size=(2, 70))\n",
    "mp.optimise_params(data, mean, 11.0)"
   ]
  },
  {
   "cell_type": "code",
   "execution_count": 7,
   "metadata": {},
   "outputs": [
    {
     "name": "stdout",
     "output_type": "stream",
     "text": [
      "Warning: Desired error not necessarily achieved due to precision loss.\n",
      "         Current function value: 57378.609605\n",
      "         Iterations: 7\n",
      "         Function evaluations: 221\n",
      "         Gradient evaluations: 70\n",
      "      fun: 57378.60960546055\n",
      " hess_inv: array([[4.82107157e-07]])\n",
      "      jac: array([-0.28710938])\n",
      "  message: 'Desired error not necessarily achieved due to precision loss.'\n",
      "     nfev: 221\n",
      "      nit: 7\n",
      "     njev: 70\n",
      "   status: 2\n",
      "  success: False\n",
      "        x: array([1.30640701])\n"
     ]
    },
    {
     "data": {
      "text/plain": [
       "(array([1.30640701]), array([ 5.46, 10.72]))"
      ]
     },
     "execution_count": 7,
     "metadata": {},
     "output_type": "execute_result"
    }
   ],
   "source": [
    "mp = mvp(\"clayton\", 4.6)\n",
    "data, mean = mp.rvs(size=(2, 200))\n",
    "mp.optimise_params(data, mean, 11.0)"
   ]
  },
  {
   "cell_type": "code",
   "execution_count": 8,
   "metadata": {},
   "outputs": [],
   "source": [
    "def log_likelihood_archimedean(alpha, data, mean):\n",
    "    copula = CopulaGenerator(family=\"clayton\", alpha=alpha)\n",
    "    poiss = mvp(\"clayton\", alpha)\n",
    "    pm = poiss.pmf(data, mean)\n",
    "    pm[pm == 0] = 1e-3\n",
    "    return -sum(np.log10(pm))"
   ]
  },
  {
   "cell_type": "code",
   "execution_count": 19,
   "metadata": {},
   "outputs": [],
   "source": [
    "mp = mvp(\"clayton\", 4.6)\n",
    "data, mean = mp.rvs(size=(2, 1000))"
   ]
  },
  {
   "cell_type": "code",
   "execution_count": null,
   "metadata": {},
   "outputs": [],
   "source": []
  },
  {
   "cell_type": "code",
   "execution_count": 17,
   "metadata": {},
   "outputs": [
    {
     "data": {
      "text/plain": [
       "287.06600413146253"
      ]
     },
     "execution_count": 17,
     "metadata": {},
     "output_type": "execute_result"
    }
   ],
   "source": [
    "log_likelihood_archimedean(1.0, data, mean)"
   ]
  },
  {
   "cell_type": "code",
   "execution_count": null,
   "metadata": {},
   "outputs": [],
   "source": []
  }
 ],
 "metadata": {
  "kernelspec": {
   "display_name": "MultiPoissonDistributions",
   "language": "python",
   "name": "multipoissondistributions"
  },
  "language_info": {
   "codemirror_mode": {
    "name": "ipython",
    "version": 3
   },
   "file_extension": ".py",
   "mimetype": "text/x-python",
   "name": "python",
   "nbconvert_exporter": "python",
   "pygments_lexer": "ipython3",
   "version": "3.6.0"
  },
  "pycharm": {
   "stem_cell": {
    "cell_type": "raw",
    "source": [],
    "metadata": {
     "collapsed": false
    }
   }
  }
 },
 "nbformat": 4,
 "nbformat_minor": 2
}