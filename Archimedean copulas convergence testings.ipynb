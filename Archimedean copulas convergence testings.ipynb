{
 "cells": [
  {
   "cell_type": "code",
   "execution_count": 1,
   "metadata": {},
   "outputs": [],
   "source": [
    "import numpy as np\n",
    "from scipy.stats import poisson\n",
    "import matplotlib.pyplot as plt\n",
    "from mpl_toolkits.mplot3d import Axes3D\n",
    "from MultivariatePoisson import MultivariatePoisson as mvp\n",
    "from scipy.stats import norm, multivariate_normal\n",
    "from CopulaGenerator import CopulaGenerator\n",
    "from scipy.optimize import minimize\n",
    "%load_ext autoreload\n",
    "%autoreload 2"
   ]
  },
  {
   "cell_type": "code",
   "execution_count": 2,
   "metadata": {},
   "outputs": [
    {
     "name": "stdout",
     "output_type": "stream",
     "text": [
      "Optimization terminated successfully.\n",
      "         Current function value: 583.729047\n",
      "         Iterations: 8\n",
      "         Function evaluations: 54\n",
      "         Gradient evaluations: 18\n",
      "      fun: 583.7290473146054\n",
      " hess_inv: array([[0.2639284]])\n",
      "      jac: array([0.])\n",
      "  message: 'Optimization terminated successfully.'\n",
      "     nfev: 54\n",
      "      nit: 8\n",
      "     njev: 18\n",
      "   status: 0\n",
      "  success: True\n",
      "        x: array([2.09387633])\n"
     ]
    },
    {
     "data": {
      "text/plain": [
       "(array([2.09387633]), array([ 4.95, 10.3 ]))"
      ]
     },
     "execution_count": 2,
     "metadata": {},
     "output_type": "execute_result"
    }
   ],
   "source": [
    "mp = mvp(\"clayton\", 4.6)\n",
    "data, mean = mp.rvs(size=(2, 20))\n",
    "mp.optimise_params(data, mean, 11.0)"
   ]
  },
  {
   "cell_type": "code",
   "execution_count": 3,
   "metadata": {},
   "outputs": [
    {
     "name": "stdout",
     "output_type": "stream",
     "text": [
      "Warning: Desired error not necessarily achieved due to precision loss.\n",
      "         Current function value: 2888.679600\n",
      "         Iterations: 8\n",
      "         Function evaluations: 64\n",
      "         Gradient evaluations: 21\n",
      "      fun: 2888.679600335175\n",
      " hess_inv: array([[1.35452865e-07]])\n",
      "      jac: array([-0.0005188])\n",
      "  message: 'Desired error not necessarily achieved due to precision loss.'\n",
      "     nfev: 64\n",
      "      nit: 8\n",
      "     njev: 21\n",
      "   status: 2\n",
      "  success: False\n",
      "        x: array([2.35301201])\n"
     ]
    },
    {
     "data": {
      "text/plain": [
       "(array([2.35301201]), array([2.32, 4.18]))"
      ]
     },
     "execution_count": 3,
     "metadata": {},
     "output_type": "execute_result"
    }
   ],
   "source": [
    "mp = mvp(\"clayton\", 4.6)\n",
    "data, mean = mp.rvs(size=(2, 50))\n",
    "mp.optimise_params(data, mean, 11.0)"
   ]
  },
  {
   "cell_type": "code",
   "execution_count": 4,
   "metadata": {},
   "outputs": [
    {
     "name": "stdout",
     "output_type": "stream",
     "text": [
      "Warning: Desired error not necessarily achieved due to precision loss.\n",
      "         Current function value: 6377.325072\n",
      "         Iterations: 4\n",
      "         Function evaluations: 142\n",
      "         Gradient evaluations: 44\n",
      "      fun: 6377.325071555706\n",
      " hess_inv: array([[0.09194756]])\n",
      "      jac: array([-0.00054932])\n",
      "  message: 'Desired error not necessarily achieved due to precision loss.'\n",
      "     nfev: 142\n",
      "      nit: 4\n",
      "     njev: 44\n",
      "   status: 2\n",
      "  success: False\n",
      "        x: array([5.03902759])\n"
     ]
    },
    {
     "data": {
      "text/plain": [
       "(array([5.03902759]), array([2.04285714, 7.3       ]))"
      ]
     },
     "execution_count": 4,
     "metadata": {},
     "output_type": "execute_result"
    }
   ],
   "source": [
    "mp = mvp(\"clayton\", 4.6)\n",
    "data, mean = mp.rvs(size=(2, 70))\n",
    "mp.optimise_params(data, mean, 11.0)"
   ]
  },
  {
   "cell_type": "code",
   "execution_count": 7,
   "metadata": {},
   "outputs": [
    {
     "name": "stdout",
     "output_type": "stream",
     "text": [
      "Warning: Desired error not necessarily achieved due to precision loss.\n",
      "         Current function value: 57378.609605\n",
      "         Iterations: 7\n",
      "         Function evaluations: 221\n",
      "         Gradient evaluations: 70\n",
      "      fun: 57378.60960546055\n",
      " hess_inv: array([[4.82107157e-07]])\n",
      "      jac: array([-0.28710938])\n",
      "  message: 'Desired error not necessarily achieved due to precision loss.'\n",
      "     nfev: 221\n",
      "      nit: 7\n",
      "     njev: 70\n",
      "   status: 2\n",
      "  success: False\n",
      "        x: array([1.30640701])\n"
     ]
    },
    {
     "data": {
      "text/plain": [
       "(array([1.30640701]), array([ 5.46, 10.72]))"
      ]
     },
     "execution_count": 7,
     "metadata": {},
     "output_type": "execute_result"
    }
   ],
   "source": [
    "mp = mvp(\"clayton\", 4.6)\n",
    "data, mean = mp.rvs(size=(2, 200))\n",
    "mp.optimise_params(data, mean, 11.0)"
   ]
  },
  {
   "cell_type": "code",
   "execution_count": 8,
   "metadata": {},
   "outputs": [],
   "source": [
    "def log_likelihood_archimedean(alpha, data, mean):\n",
    "    copula = CopulaGenerator(family=\"clayton\", alpha=alpha)\n",
    "    poiss = mvp(\"clayton\", alpha)\n",
    "    pm = poiss.pmf(data, mean)\n",
    "    pm[pm == 0] = 1e-3\n",
    "    return -sum(np.log10(pm))"
   ]
  },
  {
   "cell_type": "code",
   "execution_count": 19,
   "metadata": {},
   "outputs": [],
   "source": [
    "mp = mvp(\"clayton\", 4.6)\n",
    "data, mean = mp.rvs(size=(2, 1000))"
   ]
  },
  {
   "cell_type": "code",
   "execution_count": null,
   "metadata": {},
   "outputs": [],
   "source": []
  },
  {
   "cell_type": "code",
   "execution_count": 17,
   "metadata": {},
   "outputs": [
    {
     "data": {
      "text/plain": [
       "287.06600413146253"
      ]
     },
     "execution_count": 17,
     "metadata": {},
     "output_type": "execute_result"
    }
   ],
   "source": [
    "log_likelihood_archimedean(1.0, data, mean)"
   ]
  },
  {
   "cell_type": "code",
   "execution_count": null,
   "metadata": {},
   "outputs": [],
   "source": []
  }
 ],
 "metadata": {
  "kernelspec": {
   "display_name": "MultiPoissonDistributions",
   "language": "python",
   "name": "multipoissondistributions"
  },
  "language_info": {
   "codemirror_mode": {
    "name": "ipython",
    "version": 3
   },
   "file_extension": ".py",
   "mimetype": "text/x-python",
   "name": "python",
   "nbconvert_exporter": "python",
   "pygments_lexer": "ipython3",
   "version": "3.6.0"
  }
 },
 "nbformat": 4,
 "nbformat_minor": 2
}
